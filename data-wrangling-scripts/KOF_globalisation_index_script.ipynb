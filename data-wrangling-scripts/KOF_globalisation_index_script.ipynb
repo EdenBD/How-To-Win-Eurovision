{
 "cells": [
  {
   "cell_type": "markdown",
   "metadata": {},
   "source": [
    "### KOF Globalisation Index\n",
    "\n",
    "#### Definition and Description:\n",
    "\n",
    "The KOF Globalisation Index is a measure of the economic, social and political dimensions of globalisation. The higher the index score, the higher the level globalisation that country has. KOF_Globalisation_Index.xlsx contains the globalisation statistics for all countries from 1970-2016.\n",
    "\n",
    "If a country doesn't have KOF measurements for a particular year, the cells in that row are blank (and represented as NaN in the Pandas dataframe we are making). I noticed that 13 countries (most from the former Soviet bloc countries) only had KOFGI starting at 1991 - we should discuss how to treat the missing data (more detail below).\n",
    "\n",
    "For each year in a country, there are many different globalisation measures represented in different columns in this dataset.\n",
    "Here is the complete list:\n",
    "KOFGI\tKOFGIdf\tKOFGIdj\tKOFEcGI\tKOFEcGIdf\tKOFEcGIdj\tKOFTrGI\tKOFTrGIdf\tKOFTrGIdj\tKOFFiGI\tKOFFiGIdf\tKOFFiGIdj\tKOFSoGI\tKOFSoGIdf\tKOFSoGIdj\tKOFIpGI\tKOFIpGIdf\tKOFIpGIdj\tKOFInGI\tKOFInGIdf\tKOFInGIdj\tKOFCuGI\tKOFCuGIdf\tKOFCuGIdj\tKOFPoGI\tKOFPoGIdf\tKOFPoGIdj\n",
    "\n",
    "According to the definitions in Table 1 in this paper (https://www.e-jei.org/upload/JEI_34_1_133_158_2013600183.pdf), we probably should be focusing on the 'KOFGI' (defined as \"KOF overall globalization\") column in KOF_Globalisation_index.xlsx as a start.\n",
    "\n",
    "\n",
    "\n",
    "\n",
    "#### Source:\n",
    "We downloaded KOF_Globalisation_Index.xlsx from https://kof.ethz.ch/en/forecasts-and-indicators/indicators/kof-globalisation-index.html (the link entitled \"KOF Globalisation Index_2018_2 (XLSX, 2.9 MB)\").\n",
    "\n",
    "Citation: Gygli, Savina, Florian Haelg, Niklas Potrafke and Jan-Egbert Sturm (2019): The KOF Globalisation Index – Revisited, Review of International Organizations, https://doi.org/10.1007/s11558-019-09344-2\n",
    "\n",
    "\n",
    "\n"
   ]
  },
  {
   "cell_type": "code",
   "execution_count": 1,
   "metadata": {},
   "outputs": [
    {
     "name": "stdout",
     "output_type": "stream",
     "text": [
      "Requirement already satisfied: xlrd in /usr/local/lib/python3.7/site-packages (1.2.0)\r\n"
     ]
    }
   ],
   "source": [
    "import pandas as pd\n",
    "!python3 -m pip install xlrd\n",
    "kof_index = pd.read_excel(\"KOF_Globalisation_Index.xlsx\")"
   ]
  },
  {
   "cell_type": "markdown",
   "metadata": {},
   "source": [
    "Next,we create a filter of the 49 countries who have ever participated in Eurovision.\n",
    "\n",
    "*Please note that former contestants Serbia and Montenegro and Yugoslavia were both dissolved and came back as separate countries, so we don't need additional entries for them  - The country \"Serbia and Montenegro\" became Yugoslavia, which became the 2 separate modern day countries, Serbia and Montenegro."
   ]
  },
  {
   "cell_type": "code",
   "execution_count": 2,
   "metadata": {},
   "outputs": [
    {
     "name": "stdout",
     "output_type": "stream",
     "text": [
      "==============================================================================================\n",
      "Here is all KOF_Index statistics for countries that have participated in Eurovision before:\n",
      "\n",
      "     code  country  year      KOFGI    KOFGIdf    KOFGIdj    KOFEcGI  \\\n",
      "47    ADO  Andorra  1970  46.638859  48.532837  44.446125        NaN   \n",
      "48    ADO  Andorra  1971  48.310097  48.532837  48.052235        NaN   \n",
      "49    ADO  Andorra  1972  48.141354  48.532837  47.688126        NaN   \n",
      "50    ADO  Andorra  1973  47.522007  48.532837  46.351734        NaN   \n",
      "51    ADO  Andorra  1974  47.284958  48.532837  45.840233        NaN   \n",
      "...   ...      ...   ...        ...        ...        ...        ...   \n",
      "8831  UKR  Ukraine  2012  73.465561  74.308136  72.622986  62.215950   \n",
      "8832  UKR  Ukraine  2013  73.651726  74.247826  73.055603  61.882236   \n",
      "8833  UKR  Ukraine  2014  73.195877  74.479919  71.911835  61.532661   \n",
      "8834  UKR  Ukraine  2015  73.975342  76.358757  71.591934  62.948605   \n",
      "8835  UKR  Ukraine  2016  74.249352  76.221581  72.277122  63.730339   \n",
      "\n",
      "      KOFEcGIdf  KOFEcGIdj    KOFTrGI  ...  KOFIpGIdj    KOFInGI  KOFInGIdf  \\\n",
      "47          NaN        NaN        NaN  ...        NaN  75.796371  73.200752   \n",
      "48          NaN        NaN        NaN  ...        NaN  75.796371  73.200752   \n",
      "49          NaN        NaN        NaN  ...        NaN  75.796371  73.200752   \n",
      "50          NaN        NaN        NaN  ...        NaN  75.796371  73.200752   \n",
      "51          NaN        NaN        NaN  ...        NaN  75.796371  73.200752   \n",
      "...         ...        ...        ...  ...        ...        ...        ...   \n",
      "8831  74.555931  49.875965  71.741173  ...  69.224716  77.205498  80.084976   \n",
      "8832  73.723412  50.041042  71.012718  ...  72.306870  77.432114  80.497879   \n",
      "8833  74.889664  48.175655  69.667603  ...  70.325417  78.631477  80.318588   \n",
      "8834  81.087517  44.809689  69.853836  ...  66.970734  79.259232  79.519638   \n",
      "8835  81.124603  46.336071  71.507004  ...  67.024948  79.422424  79.131226   \n",
      "\n",
      "      KOFInGIdj    KOFCuGI  KOFCuGIdf  KOFCuGIdj    KOFPoGI  KOFPoGIdf  \\\n",
      "47    79.546936  84.562363  84.795830  84.291946  23.734232   8.473007   \n",
      "48    79.546936  84.562363  84.795830  84.291946  26.897635   8.473007   \n",
      "49    79.546936  84.562363  84.795830  84.291946  26.502211   8.473007   \n",
      "50    79.546936  81.580978  84.795830  77.857178  25.909071   8.473007   \n",
      "51    79.546936  81.580978  84.795830  77.857178  25.315933   8.473007   \n",
      "...         ...        ...        ...        ...        ...        ...   \n",
      "8831  74.326012  68.435394  52.738617  84.132179  87.892159  83.685631   \n",
      "8832  74.366341  68.814560  53.230160  84.398949  87.885696  83.669662   \n",
      "8833  76.944382  67.025200  49.545738  84.504662  87.478241  84.654823   \n",
      "8834  78.998810  64.770477  45.174500  84.366447  89.332047  85.476639   \n",
      "8835  79.713623  64.183090  44.179146  84.187027  89.370003  85.219902   \n",
      "\n",
      "      KOFPoGIdj  \n",
      "47    38.995453  \n",
      "48    45.322258  \n",
      "49    44.531410  \n",
      "50    43.345131  \n",
      "51    42.158855  \n",
      "...         ...  \n",
      "8831  92.098694  \n",
      "8832  92.101707  \n",
      "8833  90.301674  \n",
      "8834  93.187447  \n",
      "8835  93.520103  \n",
      "\n",
      "[2303 rows x 30 columns]\n",
      "==============================================================================================\n"
     ]
    }
   ],
   "source": [
    "listEurovisionCountries = [\"Albania\",\"Andorra\",\"Armenia\",\"Australia\",\"Austria\",\"Azerbaijan\", \\\n",
    "                           \"Belarus\",\"Bosnia and Herzegovina\",\"Bulgaria\",\"Croatia\",\"Cyprus\",\"Czech Republic\",\\\n",
    "                          \"Denmark\",\"Estonia\",\"Finland\",\"France\",\"Georgia\",\"Germany\",\"Greece\",\"Hungary\", \\\n",
    "                          \"Iceland\",\"Ireland\",\"Israel\",\"Italy\",\"Latvia\",\"Lithuania\",\"Luxembourg\", \\\n",
    "                          \"Macedonia, FYR\",\"Malta\",\"Moldova\",\"Monaco\",\"Montenegro\",\"Morocco\",\"Netherlands\", \\\n",
    "                          \"Norway\",\"Poland\",\"Portugal\",\"Romania\",\"Russian Federation\", \\\n",
    "                           \"San Marino\",\"Serbia\",\"Slovak Republic\",\"Slovenia\",\"Spain\",\"Sweden\",\"Switzerland\", \\\n",
    "                           \"Turkey\",\"Ukraine\",\"United Kingdom\"]\n",
    "filterCountries = (kof_index[\"country\"].isin(listEurovisionCountries))\n",
    "justEurovisionCountries = kof_index[filterCountries]\n",
    "\n",
    "print(\"==============================================================================================\")\n",
    "print(\"Here is all KOF_Index statistics for countries that have participated in Eurovision before:\\n\")\n",
    "print(justEurovisionCountries)\n",
    "print(\"==============================================================================================\")"
   ]
  },
  {
   "cell_type": "markdown",
   "metadata": {},
   "source": [
    "#### Example of using justEurovisionCountries:\n",
    "\n",
    "Getting the KOFGI score of Switzerland in 1989:"
   ]
  },
  {
   "cell_type": "code",
   "execution_count": 3,
   "metadata": {},
   "outputs": [
    {
     "name": "stdout",
     "output_type": "stream",
     "text": [
      "1523    79.304237\n",
      "Name: KOFGI, dtype: float64\n"
     ]
    }
   ],
   "source": [
    "filter = justEurovisionCountries[\"year\"] == 1989\n",
    "filter = filter & (justEurovisionCountries[\"country\"] == \"Switzerland\")\n",
    "switzerland1989Kofgi = justEurovisionCountries[filter][\"KOFGI\"]\n",
    "print(switzerland1989Kofgi)"
   ]
  },
  {
   "cell_type": "markdown",
   "metadata": {},
   "source": [
    "#### Missing data 1970-1990:\n",
    "\n",
    "A few countries, most from the former Soviet bloc, had only KOFGI scores only starting from 1991:\n",
    "\n",
    "(Also, Lithuania and Latvia are the 2 countries who existed in 1970 but didn't have a KOGFI score in 1970 and also weren't part of the 1991-starting countries)"
   ]
  },
  {
   "cell_type": "code",
   "execution_count": 4,
   "metadata": {},
   "outputs": [
    {
     "name": "stdout",
     "output_type": "stream",
     "text": [
      "349                    Armenia\n",
      "537                 Azerbaijan\n",
      "960     Bosnia and Herzegovina\n",
      "1007                   Belarus\n",
      "2135            Czech Republic\n",
      "2652                   Estonia\n",
      "3075                   Georgia\n",
      "3733                   Croatia\n",
      "5425                   Moldova\n",
      "5660            Macedonia, FYR\n",
      "7963           Slovak Republic\n",
      "8010                  Slovenia\n",
      "8809                   Ukraine\n",
      "Name: country, dtype: object\n",
      "329                    Armenia\n",
      "517                 Azerbaijan\n",
      "940     Bosnia and Herzegovina\n",
      "987                    Belarus\n",
      "2115            Czech Republic\n",
      "2632                   Estonia\n",
      "3055                   Georgia\n",
      "3713                   Croatia\n",
      "5123                 Lithuania\n",
      "5217                    Latvia\n",
      "5405                   Moldova\n",
      "5640            Macedonia, FYR\n",
      "7285        Russian Federation\n",
      "7943           Slovak Republic\n",
      "7990                  Slovenia\n",
      "8789                   Ukraine\n",
      "Name: country, dtype: object\n"
     ]
    }
   ],
   "source": [
    "filter1 = justEurovisionCountries[\"year\"] == 1990\n",
    "filter1 = filter1 & (pd.isna(justEurovisionCountries[\"KOFGI\"]))\n",
    "print(justEurovisionCountries[filter1][\"country\"])\n",
    "\n",
    "filter1 = justEurovisionCountries[\"year\"] == 1970\n",
    "filter1 = filter1 & (pd.isna(justEurovisionCountries[\"KOFGI\"]))\n",
    "print(justEurovisionCountries[filter1][\"country\"])"
   ]
  },
  {
   "cell_type": "markdown",
   "metadata": {},
   "source": [
    "## Exporting justEurovisionCountries"
   ]
  },
  {
   "cell_type": "code",
   "execution_count": 5,
   "metadata": {},
   "outputs": [],
   "source": [
    "justEurovisionCountries.to_csv(r'KOF_globalization_modified.csv')"
   ]
  }
 ],
 "metadata": {
  "kernelspec": {
   "display_name": "Python 3",
   "language": "python",
   "name": "python3"
  },
  "language_info": {
   "codemirror_mode": {
    "name": "ipython",
    "version": 3
   },
   "file_extension": ".py",
   "mimetype": "text/x-python",
   "name": "python",
   "nbconvert_exporter": "python",
   "pygments_lexer": "ipython3",
   "version": "3.7.1"
  }
 },
 "nbformat": 4,
 "nbformat_minor": 2
}
