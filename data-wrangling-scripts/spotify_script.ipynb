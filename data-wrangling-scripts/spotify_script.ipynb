{
 "cells": [
  {
   "cell_type": "markdown",
   "metadata": {},
   "source": [
    "## Spotify Script\n",
    "\n",
    "We want to get the audio features of the songs that did well in past Eurovisions.\n",
    "\n",
    "We will assume that as input, we have 2 lists of strings: 1 with the song names and 1 with the artist names, where the element at the ith index of the song list is the song, and the element at the ith index of the artist list is the artist who sang that song."
   ]
  },
  {
   "cell_type": "code",
   "execution_count": 1,
   "metadata": {},
   "outputs": [],
   "source": [
    "import json\n",
    "import urllib.request\n",
    "from urllib.request import Request\n",
    "from pandas.io.json import json_normalize"
   ]
  },
  {
   "cell_type": "markdown",
   "metadata": {},
   "source": [
    "We now need to get a token to access the Spotify API. For now, I'm using a temporary token (so this string will need to be replaced very often) generated from the \"Get Token\" button here: https://developer.spotify.com/console/get-audio-features-track/?id=06AKEBrKUckW0KREUWRnvT"
   ]
  },
  {
   "cell_type": "code",
   "execution_count": 2,
   "metadata": {},
   "outputs": [],
   "source": [
    "current_token = 'BQAtamt872wkWRW0SWSWTUfKS5orAzeXKBRd4hyT1aYHGCzEHhFmpWuSe-P_02-H0bjlwhFAOgyEiqZbewpmLJ6Kl7T1w7kfyDHdumtckl9eTvv-4YM0EQzv2YTyMaN4PMfiVuQaFeqhE6JtvJQ'"
   ]
  },
  {
   "cell_type": "code",
   "execution_count": 3,
   "metadata": {},
   "outputs": [],
   "source": [
    "songs = ['Euphoria', 'Rise Like a Phoenix']\n",
    "artists = ['Loreen','Conchita Wurst']"
   ]
  },
  {
   "cell_type": "markdown",
   "metadata": {},
   "source": [
    "We also want to keep track of null-values (songs that aren't in the Spotify API):"
   ]
  },
  {
   "cell_type": "code",
   "execution_count": 4,
   "metadata": {},
   "outputs": [],
   "source": [
    "countNulls = 0"
   ]
  },
  {
   "cell_type": "markdown",
   "metadata": {},
   "source": [
    "Data is our result list that will keep all the JSONs we get:"
   ]
  },
  {
   "cell_type": "code",
   "execution_count": 6,
   "metadata": {},
   "outputs": [
    {
     "name": "stdout",
     "output_type": "stream",
     "text": [
      "   danceability  energy  key  loudness  mode  speechiness  acousticness  \\\n",
      "0         0.562   0.783   11    -4.727     0       0.0428         0.135   \n",
      "1         0.425   0.503    2    -6.324     0       0.0256         0.142   \n",
      "\n",
      "   instrumentalness  liveness  valence    tempo            type  \\\n",
      "0          0.000014     0.282    0.391  132.060  audio_features   \n",
      "1          0.000000     0.105    0.230   81.653  audio_features   \n",
      "\n",
      "                       id                                   uri  \\\n",
      "0  4Qh4H4KxrlvTjPA6sAJC07  spotify:track:4Qh4H4KxrlvTjPA6sAJC07   \n",
      "1  1ijX03QOR6a1wI322HifSV  spotify:track:1ijX03QOR6a1wI322HifSV   \n",
      "\n",
      "                                          track_href  \\\n",
      "0  https://api.spotify.com/v1/tracks/4Qh4H4KxrlvT...   \n",
      "1  https://api.spotify.com/v1/tracks/1ijX03QOR6a1...   \n",
      "\n",
      "                                        analysis_url  duration_ms  \\\n",
      "0  https://api.spotify.com/v1/audio-analysis/4Qh4...       181787   \n",
      "1  https://api.spotify.com/v1/audio-analysis/1ijX...       183000   \n",
      "\n",
      "   time_signature                 name  \n",
      "0               4             Euphoria  \n",
      "1               4  Rise Like a Phoenix  \n"
     ]
    }
   ],
   "source": [
    "data = []\n",
    "for i in range(len(songs)):\n",
    "    \n",
    "    # formatting spaces\n",
    "    song = songs[i].replace(\" \",\"%20\")\n",
    "    artist = artists[i].replace(\" \",\"%20\")\n",
    "\n",
    "    # going from artist / song name to song URI (https://developer.spotify.com/documentation/web-api/reference/search/search/)\n",
    "    request = Request('https://api.spotify.com/v1/search?q=track:' + song + '%20artist:' + artist + '&type=track&limit=1')\n",
    "    request.add_header('Accept', 'application/json')\n",
    "    request.add_header('Content-Type', 'application/json')\n",
    "    request.add_header('Authorization', 'Bearer ' + current_token)\n",
    "    res = urllib.request.urlopen(request)\n",
    "    resObject = json.load(res)\n",
    "\n",
    "    if (len(resObject[\"tracks\"][\"items\"]) == 0):\n",
    "        countNulls += 1\n",
    "    else:\n",
    "        songURI = resObject[\"tracks\"][\"items\"][0][\"id\"]\n",
    "        name = songs[i]\n",
    "\n",
    "        # going from song URI -> audio features (https://developer.spotify.com/documentation/web-api/reference/tracks/get-audio-features/)\n",
    "        audioRequest = Request('https://api.spotify.com/v1/audio-features/' + songURI)\n",
    "        audioRequest.add_header('Accept', 'application/json')\n",
    "        audioRequest.add_header('Content-Type', 'application/json')\n",
    "        audioRequest.add_header('Authorization', 'Bearer ' + current_token)\n",
    "        audioRes = urllib.request.urlopen(audioRequest)\n",
    "        jsonObject = json.load(audioRes)\n",
    "\n",
    "        # adding the song name into JSON\n",
    "        jsonObject[\"name\"] = name\n",
    "\n",
    "        data.append(jsonObject)\n",
    "\n",
    "# converting the list of JSON objects -> a dataframe\n",
    "df = json_normalize(data)\n",
    "print(df)"
   ]
  },
  {
   "cell_type": "markdown",
   "metadata": {},
   "source": [
    "We then export our results from the dataframe into CSV:"
   ]
  },
  {
   "cell_type": "code",
   "execution_count": 7,
   "metadata": {},
   "outputs": [],
   "source": [
    "df.to_csv(r'spotify_audio_features.csv')"
   ]
  },
  {
   "cell_type": "markdown",
   "metadata": {},
   "source": [
    "### # Nulls\n",
    "\n",
    "We now see how many null values there were:"
   ]
  },
  {
   "cell_type": "code",
   "execution_count": 8,
   "metadata": {},
   "outputs": [
    {
     "name": "stdout",
     "output_type": "stream",
     "text": [
      "Number of Nulls:  0\n",
      "Number of Songs:  2\n"
     ]
    }
   ],
   "source": [
    "print(\"Number of Nulls: \", countNulls)\n",
    "print(\"Number of Songs: \", len(df))"
   ]
  },
  {
   "cell_type": "markdown",
   "metadata": {},
   "source": [
    "### Miscellaneous Stuff\n",
    "\n",
    "To see how a res object (where res = urllib.request.urlopen(request)) looks in a JSON format:\n",
    "\n",
    "    print(res.read().decode())\n",
    "\n",
    "Here's a dataset where they label what each Spotify track feature means: https://www.kaggle.com/nadintamer/top-spotify-tracks-of-2018"
   ]
  }
 ],
 "metadata": {
  "kernelspec": {
   "display_name": "Python 3",
   "language": "python",
   "name": "python3"
  },
  "language_info": {
   "codemirror_mode": {
    "name": "ipython",
    "version": 3
   },
   "file_extension": ".py",
   "mimetype": "text/x-python",
   "name": "python",
   "nbconvert_exporter": "python",
   "pygments_lexer": "ipython3",
   "version": "3.7.1"
  }
 },
 "nbformat": 4,
 "nbformat_minor": 2
}
