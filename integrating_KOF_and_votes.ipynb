{
 "cells": [
  {
   "cell_type": "markdown",
   "metadata": {},
   "source": [
    "## Finding correlations between KOF index and Eurovision votes"
   ]
  },
  {
   "cell_type": "code",
   "execution_count": 288,
   "metadata": {},
   "outputs": [],
   "source": [
    "import pandas as pd\n",
    "import os\n",
    "import seaborn as sns\n",
    "import matplotlib.pyplot as plt\n",
    "#todo scatter plot of kof index vs. eurovision place"
   ]
  },
  {
   "cell_type": "code",
   "execution_count": 289,
   "metadata": {},
   "outputs": [],
   "source": [
    "kof = pd.read_csv(os.path.join('data',r'KOF_globalization_modified.csv'))\n",
    "kof = kof[[\"country\", \"KOFGI\",\"year\"]] # we're interested in just 'KOFGI' (see the explanation in 'KOF_globalisation_index_script' for why)\n",
    "votes = pd.read_csv(os.path.join('data',r'votes_dataset_clean.csv'))\n",
    "\n",
    "#todo: linear regression?"
   ]
  },
  {
   "cell_type": "markdown",
   "metadata": {},
   "source": [
    "#### Getting only data between 1975 and 2016 in votes database"
   ]
  },
  {
   "cell_type": "code",
   "execution_count": 300,
   "metadata": {},
   "outputs": [
    {
     "name": "stdout",
     "output_type": "stream",
     "text": [
      "   Year (semi-) final Jury or Televoting From country To country  Points\n",
      "0  1975             f                  J      Belgium    Belgium       0\n",
      "1  1975             f                  J      Belgium    Finland       0\n",
      "2  1975             f                  J      Belgium     France       2\n",
      "3  1975             f                  J      Belgium    Germany       0\n",
      "4  1975             f                  J      Belgium    Ireland      12\n",
      "   country      KOFGI  year\n",
      "5  Andorra  45.609665  1975\n",
      "6  Andorra  45.992718  1976\n",
      "7  Andorra  47.634552  1977\n",
      "8  Andorra  47.870274  1978\n",
      "9  Andorra  47.895931  1979\n"
     ]
    }
   ],
   "source": [
    "year_range = (1975, 2016)\n",
    "\n",
    "votes = votes[(votes['Year'] >= year_range[0]) & (votes['Year'] <= year_range[1])]\n",
    "kof = kof[(kof['year'] >= year_range[0]) & (kof['year'] <= year_range[1])]\n",
    "    \n",
    "countries_to_exclude = set(['Bosnia', 'Serbia & Montenegro', 'Yugoslavia'])  # Australia\n",
    "country_filter = [(votes['From country'][i] not in countries_to_exclude) and\n",
    "                  (votes['To country'][i] not in countries_to_exclude)\n",
    "                  for i in votes.index]\n",
    "votes = votes[country_filter]\n",
    "\n",
    "# Filter out televoting for consistency (only in 2016)\n",
    "votes = votes[votes['Jury or Televoting'] == 'J']\n",
    "\n",
    "print(votes.head())\n",
    "print(kof.head())"
   ]
  },
  {
   "cell_type": "markdown",
   "metadata": {},
   "source": [
    "#### Rreformat the dataframes to make sure that all column names and values are consistent"
   ]
  },
  {
   "cell_type": "code",
   "execution_count": 301,
   "metadata": {},
   "outputs": [
    {
     "data": {
      "text/html": [
       "<div>\n",
       "<style scoped>\n",
       "    .dataframe tbody tr th:only-of-type {\n",
       "        vertical-align: middle;\n",
       "    }\n",
       "\n",
       "    .dataframe tbody tr th {\n",
       "        vertical-align: top;\n",
       "    }\n",
       "\n",
       "    .dataframe thead th {\n",
       "        text-align: right;\n",
       "    }\n",
       "</style>\n",
       "<table border=\"1\" class=\"dataframe\">\n",
       "  <thead>\n",
       "    <tr style=\"text-align: right;\">\n",
       "      <th></th>\n",
       "      <th>country</th>\n",
       "      <th>year</th>\n",
       "      <th>Points</th>\n",
       "      <th>KOFGI</th>\n",
       "    </tr>\n",
       "  </thead>\n",
       "  <tbody>\n",
       "    <tr>\n",
       "      <td>0</td>\n",
       "      <td>Albania</td>\n",
       "      <td>2004</td>\n",
       "      <td>259</td>\n",
       "      <td>57.847328</td>\n",
       "    </tr>\n",
       "    <tr>\n",
       "      <td>1</td>\n",
       "      <td>Albania</td>\n",
       "      <td>2005</td>\n",
       "      <td>45</td>\n",
       "      <td>58.432987</td>\n",
       "    </tr>\n",
       "    <tr>\n",
       "      <td>2</td>\n",
       "      <td>Albania</td>\n",
       "      <td>2006</td>\n",
       "      <td>58</td>\n",
       "      <td>61.545925</td>\n",
       "    </tr>\n",
       "    <tr>\n",
       "      <td>3</td>\n",
       "      <td>Albania</td>\n",
       "      <td>2007</td>\n",
       "      <td>49</td>\n",
       "      <td>64.195969</td>\n",
       "    </tr>\n",
       "    <tr>\n",
       "      <td>4</td>\n",
       "      <td>Albania</td>\n",
       "      <td>2008</td>\n",
       "      <td>122</td>\n",
       "      <td>65.721687</td>\n",
       "    </tr>\n",
       "  </tbody>\n",
       "</table>\n",
       "</div>"
      ],
      "text/plain": [
       "   country  year  Points      KOFGI\n",
       "0  Albania  2004     259  57.847328\n",
       "1  Albania  2005      45  58.432987\n",
       "2  Albania  2006      58  61.545925\n",
       "3  Albania  2007      49  64.195969\n",
       "4  Albania  2008     122  65.721687"
      ]
     },
     "execution_count": 301,
     "metadata": {},
     "output_type": "execute_result"
    }
   ],
   "source": [
    "total_points = votes.groupby(['To country', 'Year']).sum()\n",
    "\n",
    "# rename the columns to be the same as the corresponding columns in kof\n",
    "total_points.reset_index(inplace=True) \n",
    "total_points.rename(columns = {'To country':'country', 'Year':'year' }, inplace = True) \n",
    "\n",
    "# rename kof's countries to be consistent with total_points's countries\n",
    "spellingChanges = {'Bosnia and Herzegovina': 'Bosnia & Herzegovina',\n",
    "                  'Macedonia, FYR': 'F.Y.R. Macedonia',\n",
    "                  'Netherlands': 'The Netherlands',\n",
    "                  'Russian Federation': 'Russia',\n",
    "                  'Slovak Republic': 'Slovakia'}\n",
    "for c in spellingChanges:\n",
    "    kof['country'] = kof['country'].replace([c], spellingChanges[c])\n",
    "\n",
    "joined_df = pd.merge(total_points, kof,  how='left', left_on=['country','year'], right_on = ['country','year'])\n",
    "joined_df.head()"
   ]
  },
  {
   "cell_type": "code",
   "execution_count": 303,
   "metadata": {},
   "outputs": [
    {
     "data": {
      "text/plain": [
       "<matplotlib.axes._subplots.AxesSubplot at 0x117839d68>"
      ]
     },
     "execution_count": 303,
     "metadata": {},
     "output_type": "execute_result"
    },
    {
     "data": {
      "image/png": "[encoded data removed]",
      "text/plain": [
       "<Figure size 432x288 with 1 Axes>"
      ]
     },
     "metadata": {
      "needs_background": "light"
     },
     "output_type": "display_data"
    }
   ],
   "source": [
    "sns.regplot(x=joined_df[\"KOFGI\"], y=joined_df[\"Points\"])"
   ]
  },
  {
   "cell_type": "code",
   "execution_count": 304,
   "metadata": {},
   "outputs": [],
   "source": [
    "# todo add grouping variable (rank) that will distinguish ranked from unranked"
   ]
  },
  {
   "cell_type": "code",
   "execution_count": null,
   "metadata": {},
   "outputs": [],
   "source": []
  }
 ],
 "metadata": {
  "kernelspec": {
   "display_name": "Python 3",
   "language": "python",
   "name": "python3"
  },
  "language_info": {
   "codemirror_mode": {
    "name": "ipython",
    "version": 3
   },
   "file_extension": ".py",
   "mimetype": "text/x-python",
   "name": "python",
   "nbconvert_exporter": "python",
   "pygments_lexer": "ipython3",
   "version": "3.7.1"
  }
 },
 "nbformat": 4,
 "nbformat_minor": 2
}
