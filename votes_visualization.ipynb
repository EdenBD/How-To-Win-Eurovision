{
 "cells": [
  {
   "cell_type": "code",
   "execution_count": 1,
   "metadata": {},
   "outputs": [],
   "source": [
    "import matplotlib.pyplot as plt\n",
    "import pandas as pd\n",
    "import seaborn as sns\n",
    "\n",
    "sns.set(style='whitegrid')"
   ]
  },
  {
   "cell_type": "code",
   "execution_count": 2,
   "metadata": {},
   "outputs": [
    {
     "data": {
      "text/html": [
       "<div>\n",
       "<style scoped>\n",
       "    .dataframe tbody tr th:only-of-type {\n",
       "        vertical-align: middle;\n",
       "    }\n",
       "\n",
       "    .dataframe tbody tr th {\n",
       "        vertical-align: top;\n",
       "    }\n",
       "\n",
       "    .dataframe thead th {\n",
       "        text-align: right;\n",
       "    }\n",
       "</style>\n",
       "<table border=\"1\" class=\"dataframe\">\n",
       "  <thead>\n",
       "    <tr style=\"text-align: right;\">\n",
       "      <th></th>\n",
       "      <th>Year</th>\n",
       "      <th>(semi-) final</th>\n",
       "      <th>Jury or Televoting</th>\n",
       "      <th>From country</th>\n",
       "      <th>To country</th>\n",
       "      <th>Points</th>\n",
       "    </tr>\n",
       "  </thead>\n",
       "  <tbody>\n",
       "    <tr>\n",
       "      <th>0</th>\n",
       "      <td>1975</td>\n",
       "      <td>f</td>\n",
       "      <td>J</td>\n",
       "      <td>Belgium</td>\n",
       "      <td>Belgium</td>\n",
       "      <td>0</td>\n",
       "    </tr>\n",
       "    <tr>\n",
       "      <th>1</th>\n",
       "      <td>1975</td>\n",
       "      <td>f</td>\n",
       "      <td>J</td>\n",
       "      <td>Belgium</td>\n",
       "      <td>Finland</td>\n",
       "      <td>0</td>\n",
       "    </tr>\n",
       "    <tr>\n",
       "      <th>2</th>\n",
       "      <td>1975</td>\n",
       "      <td>f</td>\n",
       "      <td>J</td>\n",
       "      <td>Belgium</td>\n",
       "      <td>France</td>\n",
       "      <td>2</td>\n",
       "    </tr>\n",
       "    <tr>\n",
       "      <th>3</th>\n",
       "      <td>1975</td>\n",
       "      <td>f</td>\n",
       "      <td>J</td>\n",
       "      <td>Belgium</td>\n",
       "      <td>Germany</td>\n",
       "      <td>0</td>\n",
       "    </tr>\n",
       "    <tr>\n",
       "      <th>4</th>\n",
       "      <td>1975</td>\n",
       "      <td>f</td>\n",
       "      <td>J</td>\n",
       "      <td>Belgium</td>\n",
       "      <td>Ireland</td>\n",
       "      <td>12</td>\n",
       "    </tr>\n",
       "  </tbody>\n",
       "</table>\n",
       "</div>"
      ],
      "text/plain": [
       "   Year (semi-) final Jury or Televoting From country To country  Points\n",
       "0  1975             f                  J      Belgium    Belgium       0\n",
       "1  1975             f                  J      Belgium    Finland       0\n",
       "2  1975             f                  J      Belgium     France       2\n",
       "3  1975             f                  J      Belgium    Germany       0\n",
       "4  1975             f                  J      Belgium    Ireland      12"
      ]
     },
     "execution_count": 2,
     "metadata": {},
     "output_type": "execute_result"
    }
   ],
   "source": [
    "votes_df = pd.read_csv(\"./data/votes_dataset_clean.csv\")\n",
    "votes_df.head()"
   ]
  },
  {
   "cell_type": "code",
   "execution_count": 55,
   "metadata": {},
   "outputs": [],
   "source": [
    "# normalize names of the countries\n",
    "countries_synonyms = {'The Netherlands': 'Netherlands',\n",
    "                      'Bosnia & Herzegovina': 'Bosnia and Herzegovina',\n",
    "                      'F.Y.R. Macedonia': 'Macedonia'}\n",
    "votes_df['From country'] = votes_df['From country']\\\n",
    "   .apply(lambda x: countries_synonyms[x] if x in countries_synonyms else x)\n",
    "votes_df['To country'] = votes_df['To country']\\\n",
    "   .apply(lambda x: countries_synonyms[x] if x in countries_synonyms else x)\n",
    "\n",
    "# exclude countries that no longer exist + Australia which has only participated twice\n",
    "countries_to_exclude = set(['Bosnia', 'Serbia & Montenegro', 'Yugoslavia', 'Australia'])\n",
    "country_filter = [(votes_df['From country'][i] not in countries_to_exclude) and\n",
    "                  (votes_df['To country'][i] not in countries_to_exclude)\n",
    "                  for i in votes_df.index]\n",
    "votes_df = votes_df[country_filter]"
   ]
  },
  {
   "cell_type": "markdown",
   "metadata": {},
   "source": [
    "Parameters for selecting data to plot (can be modified):"
   ]
  },
  {
   "cell_type": "code",
   "execution_count": 4,
   "metadata": {},
   "outputs": [],
   "source": [
    "year_range = (1975, 2016)\n",
    "finals_only = True"
   ]
  },
  {
   "cell_type": "code",
   "execution_count": 5,
   "metadata": {},
   "outputs": [],
   "source": [
    "votes_df = votes_df[(votes_df['Year'] >= year_range[0]) & (votes_df['Year'] <= year_range[1])]\n",
    "if finals_only:\n",
    "    votes_df = votes_df[votes_df['(semi-) final'] == 'f']\n",
    "\n",
    "# Filter out televoting for consistency (only in 2016)\n",
    "votes_df = votes_df[votes_df['Jury or Televoting'] == 'J']"
   ]
  },
  {
   "cell_type": "code",
   "execution_count": 6,
   "metadata": {},
   "outputs": [],
   "source": [
    "# Number of participating countries each year\n",
    "data = votes_df[['From country', 'Year']].drop_duplicates().groupby('Year').count()"
   ]
  },
  {
   "cell_type": "code",
   "execution_count": 7,
   "metadata": {},
   "outputs": [
    {
     "data": {
      "text/html": [
       "<div>\n",
       "<style scoped>\n",
       "    .dataframe tbody tr th:only-of-type {\n",
       "        vertical-align: middle;\n",
       "    }\n",
       "\n",
       "    .dataframe tbody tr th {\n",
       "        vertical-align: top;\n",
       "    }\n",
       "\n",
       "    .dataframe thead th {\n",
       "        text-align: right;\n",
       "    }\n",
       "</style>\n",
       "<table border=\"1\" class=\"dataframe\">\n",
       "  <thead>\n",
       "    <tr style=\"text-align: right;\">\n",
       "      <th></th>\n",
       "      <th>To country</th>\n",
       "      <th>Year</th>\n",
       "      <th>Points</th>\n",
       "    </tr>\n",
       "  </thead>\n",
       "  <tbody>\n",
       "    <tr>\n",
       "      <th>0</th>\n",
       "      <td>Albania</td>\n",
       "      <td>2004</td>\n",
       "      <td>2.800000</td>\n",
       "    </tr>\n",
       "    <tr>\n",
       "      <th>1</th>\n",
       "      <td>Albania</td>\n",
       "      <td>2005</td>\n",
       "      <td>1.184211</td>\n",
       "    </tr>\n",
       "    <tr>\n",
       "      <th>2</th>\n",
       "      <td>Albania</td>\n",
       "      <td>2008</td>\n",
       "      <td>1.279070</td>\n",
       "    </tr>\n",
       "    <tr>\n",
       "      <th>3</th>\n",
       "      <td>Albania</td>\n",
       "      <td>2009</td>\n",
       "      <td>1.142857</td>\n",
       "    </tr>\n",
       "    <tr>\n",
       "      <th>4</th>\n",
       "      <td>Albania</td>\n",
       "      <td>2010</td>\n",
       "      <td>1.589744</td>\n",
       "    </tr>\n",
       "  </tbody>\n",
       "</table>\n",
       "</div>"
      ],
      "text/plain": [
       "  To country  Year    Points\n",
       "0    Albania  2004  2.800000\n",
       "1    Albania  2005  1.184211\n",
       "2    Albania  2008  1.279070\n",
       "3    Albania  2009  1.142857\n",
       "4    Albania  2010  1.589744"
      ]
     },
     "execution_count": 7,
     "metadata": {},
     "output_type": "execute_result"
    }
   ],
   "source": [
    "avg_from_all_by_country_year = votes_df.groupby(['To country', 'Year']).mean().reset_index()\n",
    "avg_from_all_by_country_year.head()"
   ]
  },
  {
   "cell_type": "markdown",
   "metadata": {},
   "source": [
    "## 1. Points given from one country to another across different years"
   ]
  },
  {
   "cell_type": "code",
   "execution_count": 8,
   "metadata": {},
   "outputs": [
    {
     "data": {
      "text/html": [
       "<div>\n",
       "<style scoped>\n",
       "    .dataframe tbody tr th:only-of-type {\n",
       "        vertical-align: middle;\n",
       "    }\n",
       "\n",
       "    .dataframe tbody tr th {\n",
       "        vertical-align: top;\n",
       "    }\n",
       "\n",
       "    .dataframe thead th {\n",
       "        text-align: right;\n",
       "    }\n",
       "</style>\n",
       "<table border=\"1\" class=\"dataframe\">\n",
       "  <thead>\n",
       "    <tr style=\"text-align: right;\">\n",
       "      <th></th>\n",
       "      <th>Year</th>\n",
       "      <th>(semi-) final</th>\n",
       "      <th>Jury or Televoting</th>\n",
       "      <th>From country</th>\n",
       "      <th>To country</th>\n",
       "      <th>Points</th>\n",
       "    </tr>\n",
       "  </thead>\n",
       "  <tbody>\n",
       "    <tr>\n",
       "      <th>13693</th>\n",
       "      <td>2003</td>\n",
       "      <td>f</td>\n",
       "      <td>J</td>\n",
       "      <td>Ukraine</td>\n",
       "      <td>Russia</td>\n",
       "      <td>12</td>\n",
       "    </tr>\n",
       "    <tr>\n",
       "      <th>14559</th>\n",
       "      <td>2004</td>\n",
       "      <td>f</td>\n",
       "      <td>J</td>\n",
       "      <td>Ukraine</td>\n",
       "      <td>Russia</td>\n",
       "      <td>10</td>\n",
       "    </tr>\n",
       "    <tr>\n",
       "      <th>16287</th>\n",
       "      <td>2005</td>\n",
       "      <td>f</td>\n",
       "      <td>J</td>\n",
       "      <td>Ukraine</td>\n",
       "      <td>Russia</td>\n",
       "      <td>4</td>\n",
       "    </tr>\n",
       "    <tr>\n",
       "      <th>18175</th>\n",
       "      <td>2006</td>\n",
       "      <td>f</td>\n",
       "      <td>J</td>\n",
       "      <td>Ukraine</td>\n",
       "      <td>Russia</td>\n",
       "      <td>12</td>\n",
       "    </tr>\n",
       "    <tr>\n",
       "      <th>20056</th>\n",
       "      <td>2007</td>\n",
       "      <td>f</td>\n",
       "      <td>J</td>\n",
       "      <td>Ukraine</td>\n",
       "      <td>Russia</td>\n",
       "      <td>10</td>\n",
       "    </tr>\n",
       "  </tbody>\n",
       "</table>\n",
       "</div>"
      ],
      "text/plain": [
       "       Year (semi-) final Jury or Televoting From country To country  Points\n",
       "13693  2003             f                  J      Ukraine     Russia      12\n",
       "14559  2004             f                  J      Ukraine     Russia      10\n",
       "16287  2005             f                  J      Ukraine     Russia       4\n",
       "18175  2006             f                  J      Ukraine     Russia      12\n",
       "20056  2007             f                  J      Ukraine     Russia      10"
      ]
     },
     "execution_count": 8,
     "metadata": {},
     "output_type": "execute_result"
    }
   ],
   "source": [
    "from_country = 'Ukraine'\n",
    "to_country = 'Russia'\n",
    "\n",
    "data = votes_df[(votes_df['From country'] == from_country) \n",
    "                & (votes_df['To country'] == to_country) ]\n",
    "data.head()\n"
   ]
  },
  {
   "cell_type": "code",
   "execution_count": 9,
   "metadata": {},
   "outputs": [
    {
     "data": {
      "text/plain": [
       "<matplotlib.legend.Legend at 0x7f35e545d4e0>"
      ]
     },
     "execution_count": 9,
     "metadata": {},
     "output_type": "execute_result"
    },
    {
     "data": {
      "image/png": "[encoded data removed]",
      "text/plain": [
       "<Figure size 936x432 with 1 Axes>"
      ]
     },
     "metadata": {
      "needs_background": "light"
     },
     "output_type": "display_data"
    }
   ],
   "source": [
    "overall_data = avg_from_all_by_country_year[avg_from_all_by_country_year['To country'] == to_country]\n",
    "year_filter = [y in set(data['Year'].values) for y in overall_data['Year']]\n",
    "overall_data = overall_data[year_filter]\n",
    "\n",
    "relevant_year_range = (min(data['Year'].values), max(data['Year'].values))\n",
    "\n",
    "fig, ax = plt.subplots()\n",
    "\n",
    "sns.barplot(x=\"Year\", y=\"Points\", ax=ax, data=overall_data, \n",
    "            color='lightblue', label='Average of the votes for {}'.format(to_country))\n",
    "sns.lineplot(x=[i for i in range(len(data))], y=data[\"Points\"], ax=ax,\n",
    "             label='Points given to {} by {}'.format(to_country, from_country))\n",
    "\n",
    "plt.gcf().set_size_inches(13, 6)\n",
    "plt.xticks(rotation=45)\n",
    "ax.legend()"
   ]
  },
  {
   "cell_type": "code",
   "execution_count": 10,
   "metadata": {},
   "outputs": [
    {
     "data": {
      "text/plain": [
       "<matplotlib.legend.Legend at 0x7f35e4fbbc88>"
      ]
     },
     "execution_count": 10,
     "metadata": {},
     "output_type": "execute_result"
    },
    {
     "data": {
      "image/png": "[encoded data removed]",
      "text/plain": [
       "<Figure size 936x432 with 2 Axes>"
      ]
     },
     "metadata": {
      "needs_background": "light"
     },
     "output_type": "display_data"
    }
   ],
   "source": [
    "# Two plots, for both directions:\n",
    "\n",
    "from_country = 'Greece'\n",
    "to_country = 'Cyprus'\n",
    "\n",
    "data = votes_df[(votes_df['From country'] == from_country) \n",
    "                & (votes_df['To country'] == to_country) ]\n",
    "\n",
    "overall_data = avg_from_all_by_country_year[avg_from_all_by_country_year['To country'] == to_country]\n",
    "year_filter = [y in set(data['Year'].values) for y in overall_data['Year']]\n",
    "overall_data = overall_data[year_filter]\n",
    "\n",
    "\n",
    "fig, axes = plt.subplots(2, 1)\n",
    "ax1 = axes[0]\n",
    "ax2 = axes[1]\n",
    "\n",
    "sns.barplot(x=\"Year\", y=\"Points\", ax=ax1, data=overall_data, \n",
    "            color='lightblue', label='Average of the votes for {}'.format(to_country))\n",
    "sns.lineplot(x=[i for i in range(len(data))], y=data[\"Points\"], ax=ax1,\n",
    "             label='Points given to {} by {}'.format(to_country, from_country))\n",
    "plt.xticks(rotation=45)\n",
    "\n",
    "\n",
    "# + the other way around\n",
    "data = votes_df[(votes_df['From country'] == to_country) \n",
    "                & (votes_df['To country'] == from_country) ]\n",
    "\n",
    "overall_data = avg_from_all_by_country_year[avg_from_all_by_country_year['To country'] == from_country]\n",
    "year_filter = [y in set(data['Year'].values) for y in overall_data['Year']]\n",
    "overall_data = overall_data[year_filter]\n",
    "\n",
    "sns.barplot(x=\"Year\", y=\"Points\", ax=ax2, data=overall_data, \n",
    "            color='lightblue', label='Average of the votes for {}'.format(from_country))\n",
    "sns.lineplot(x=[i for i in range(len(data))], y=data[\"Points\"], ax=ax2,\n",
    "             label='Points given to {} by {}'.format(from_country, to_country))\n",
    "\n",
    "plt.gcf().set_size_inches(13, 6)\n",
    "plt.xticks(rotation=45)\n",
    "ax1.legend()\n",
    "ax2.legend()\n"
   ]
  },
  {
   "cell_type": "markdown",
   "metadata": {},
   "source": [
    "## 2. Average votes for other countries from a specified country"
   ]
  },
  {
   "cell_type": "code",
   "execution_count": 11,
   "metadata": {},
   "outputs": [
    {
     "data": {
      "text/html": [
       "<div>\n",
       "<style scoped>\n",
       "    .dataframe tbody tr th:only-of-type {\n",
       "        vertical-align: middle;\n",
       "    }\n",
       "\n",
       "    .dataframe tbody tr th {\n",
       "        vertical-align: top;\n",
       "    }\n",
       "\n",
       "    .dataframe thead th {\n",
       "        text-align: right;\n",
       "    }\n",
       "</style>\n",
       "<table border=\"1\" class=\"dataframe\">\n",
       "  <thead>\n",
       "    <tr style=\"text-align: right;\">\n",
       "      <th></th>\n",
       "      <th>Year</th>\n",
       "      <th>To country</th>\n",
       "      <th>Points</th>\n",
       "    </tr>\n",
       "  </thead>\n",
       "  <tbody>\n",
       "    <tr>\n",
       "      <th>25684</th>\n",
       "      <td>2010</td>\n",
       "      <td>Albania</td>\n",
       "      <td>0</td>\n",
       "    </tr>\n",
       "    <tr>\n",
       "      <th>29294</th>\n",
       "      <td>2012</td>\n",
       "      <td>Albania</td>\n",
       "      <td>0</td>\n",
       "    </tr>\n",
       "    <tr>\n",
       "      <th>23931</th>\n",
       "      <td>2009</td>\n",
       "      <td>Albania</td>\n",
       "      <td>0</td>\n",
       "    </tr>\n",
       "    <tr>\n",
       "      <th>22064</th>\n",
       "      <td>2008</td>\n",
       "      <td>Albania</td>\n",
       "      <td>0</td>\n",
       "    </tr>\n",
       "    <tr>\n",
       "      <th>33586</th>\n",
       "      <td>2015</td>\n",
       "      <td>Albania</td>\n",
       "      <td>0</td>\n",
       "    </tr>\n",
       "  </tbody>\n",
       "</table>\n",
       "</div>"
      ],
      "text/plain": [
       "       Year To country  Points\n",
       "25684  2010    Albania       0\n",
       "29294  2012    Albania       0\n",
       "23931  2009    Albania       0\n",
       "22064  2008    Albania       0\n",
       "33586  2015    Albania       0"
      ]
     },
     "execution_count": 11,
     "metadata": {},
     "output_type": "execute_result"
    }
   ],
   "source": [
    "from_country = 'Russia'\n",
    "\n",
    "data = votes_df[votes_df['From country'] == from_country][['Year', 'To country', 'Points']]\\\n",
    "    .sort_values('To country')  # alphabetical order\n",
    "relevant_year_range = (min(data['Year'].values), max(data['Year'].values))\n",
    "data.head()"
   ]
  },
  {
   "cell_type": "code",
   "execution_count": 12,
   "metadata": {},
   "outputs": [
    {
     "data": {
      "text/plain": [
       "Text(0.5, 1.0, 'Average points given to other countries by Russia during 1994-2016')"
      ]
     },
     "execution_count": 12,
     "metadata": {},
     "output_type": "execute_result"
    },
    {
     "data": {
      "image/png": "[encoded data removed]",
      "text/plain": [
       "<Figure size 1080x432 with 1 Axes>"
      ]
     },
     "metadata": {
      "needs_background": "light"
     },
     "output_type": "display_data"
    }
   ],
   "source": [
    "plt.gcf().set_size_inches(15, 6)\n",
    "plt.xticks(rotation=75)\n",
    "ax = sns.barplot(x=\"To country\", y=\"Points\", data=data)\n",
    "ax.set_title('Average points given to other countries by {} during {}-{}'.format(from_country, \n",
    "                                                                                 relevant_year_range[0],\n",
    "                                                                                 relevant_year_range[1]))"
   ]
  },
  {
   "cell_type": "code",
   "execution_count": null,
   "metadata": {},
   "outputs": [],
   "source": []
  },
  {
   "cell_type": "markdown",
   "metadata": {},
   "source": [
    "## 3. Same, but to_country"
   ]
  },
  {
   "cell_type": "code",
   "execution_count": 13,
   "metadata": {},
   "outputs": [
    {
     "data": {
      "text/plain": [
       "Text(0.5, 1.0, 'Average points given by other countries to Sweden during 1975-2016')"
      ]
     },
     "execution_count": 13,
     "metadata": {},
     "output_type": "execute_result"
    },
    {
     "data": {
      "image/png": "[encoded data removed]",
      "text/plain": [
       "<Figure size 1080x432 with 1 Axes>"
      ]
     },
     "metadata": {
      "needs_background": "light"
     },
     "output_type": "display_data"
    }
   ],
   "source": [
    "to_country = 'Sweden'\n",
    "\n",
    "data = votes_df[votes_df['To country'] == to_country][['Year', 'From country', 'Points']]\\\n",
    "    .sort_values('From country')  # alphabetical order\n",
    "relevant_year_range = (min(data['Year'].values), max(data['Year'].values))\n",
    "\n",
    "plt.gcf().set_size_inches(15, 6)\n",
    "plt.xticks(rotation=75)\n",
    "ax = sns.barplot(x=\"From country\", y=\"Points\", data=data)\n",
    "\n",
    "ax.set_title('Average points given by other countries to {} during {}-{}'.format(to_country, \n",
    "                                                                                 relevant_year_range[0],\n",
    "                                                                                 relevant_year_range[1]))"
   ]
  },
  {
   "cell_type": "markdown",
   "metadata": {},
   "source": [
    "## 4. Cluster map"
   ]
  },
  {
   "cell_type": "code",
   "execution_count": 14,
   "metadata": {},
   "outputs": [
    {
     "data": {
      "text/plain": [
       "<seaborn.matrix.ClusterGrid at 0x7f35e4e45cf8>"
      ]
     },
     "execution_count": 14,
     "metadata": {},
     "output_type": "execute_result"
    },
    {
     "data": {
      "image/png": "[encoded data removed]",
      "text/plain": [
       "<Figure size 1080x1080 with 4 Axes>"
      ]
     },
     "metadata": {
      "needs_background": "light"
     },
     "output_type": "display_data"
    }
   ],
   "source": [
    "avg_votes_by_countries_pairs = votes_df\\\n",
    "                                [['From country', 'To country', 'Points']]\\\n",
    "                                .groupby(['From country', 'To country']).mean().unstack('To country')\n",
    "# Reset multiple column levels\n",
    "avg_votes_by_countries_pairs.columns = [country for _, country in avg_votes_by_countries_pairs.columns]\n",
    "\n",
    "# Note: note entirely accurate because of years when some countries have not particpated\n",
    "avg_votes_by_countries_pairs = avg_votes_by_countries_pairs.fillna(value=0)\n",
    "\n",
    "\n",
    "# Draw the full plot\n",
    "sns.clustermap(avg_votes_by_countries_pairs, center=0, cmap=\"vlag\",\n",
    "               #row_cluster=False, col_cluster=False,\n",
    "               linewidths=.75, figsize=(15, 15))"
   ]
  },
  {
   "cell_type": "markdown",
   "metadata": {},
   "source": [
    "## Map"
   ]
  },
  {
   "cell_type": "code",
   "execution_count": 15,
   "metadata": {
    "scrolled": true
   },
   "outputs": [
    {
     "name": "stdout",
     "output_type": "stream",
     "text": [
      "Collecting plotly\n",
      "  Using cached https://files.pythonhosted.org/packages/e3/67/eb2b2be7a63a66548abea92447fc04d9abf363520f1af6145c5f033cd1b3/plotly-4.3.0-py2.py3-none-any.whl\n",
      "Collecting retrying>=1.3.3 (from plotly)\n",
      "Collecting six (from plotly)\n",
      "  Using cached https://files.pythonhosted.org/packages/65/26/32b8464df2a97e6dd1b656ed26b2c194606c16fe163c695a992b36c11cdf/six-1.13.0-py2.py3-none-any.whl\n",
      "Installing collected packages: six, retrying, plotly\n",
      "Successfully installed plotly-4.3.0 retrying-1.3.3 six-1.13.0\n"
     ]
    }
   ],
   "source": [
    "!pip3 install plotly\n",
    "import plotly.graph_objects as go"
   ]
  },
  {
   "cell_type": "code",
   "execution_count": 56,
   "metadata": {},
   "outputs": [
    {
     "data": {
      "text/html": [
       "<div>\n",
       "<style scoped>\n",
       "    .dataframe tbody tr th:only-of-type {\n",
       "        vertical-align: middle;\n",
       "    }\n",
       "\n",
       "    .dataframe tbody tr th {\n",
       "        vertical-align: top;\n",
       "    }\n",
       "\n",
       "    .dataframe thead th {\n",
       "        text-align: right;\n",
       "    }\n",
       "</style>\n",
       "<table border=\"1\" class=\"dataframe\">\n",
       "  <thead>\n",
       "    <tr style=\"text-align: right;\">\n",
       "      <th></th>\n",
       "      <th>Year</th>\n",
       "      <th>(semi-) final</th>\n",
       "      <th>Jury or Televoting</th>\n",
       "      <th>From country</th>\n",
       "      <th>To country</th>\n",
       "      <th>Points</th>\n",
       "      <th>from_country_code</th>\n",
       "      <th>to_country_code</th>\n",
       "    </tr>\n",
       "  </thead>\n",
       "  <tbody>\n",
       "    <tr>\n",
       "      <th>0</th>\n",
       "      <td>1975</td>\n",
       "      <td>f</td>\n",
       "      <td>J</td>\n",
       "      <td>Belgium</td>\n",
       "      <td>Belgium</td>\n",
       "      <td>0</td>\n",
       "      <td>BEL</td>\n",
       "      <td>BEL</td>\n",
       "    </tr>\n",
       "    <tr>\n",
       "      <th>1</th>\n",
       "      <td>1975</td>\n",
       "      <td>f</td>\n",
       "      <td>J</td>\n",
       "      <td>Belgium</td>\n",
       "      <td>Finland</td>\n",
       "      <td>0</td>\n",
       "      <td>BEL</td>\n",
       "      <td>FIN</td>\n",
       "    </tr>\n",
       "    <tr>\n",
       "      <th>2</th>\n",
       "      <td>1975</td>\n",
       "      <td>f</td>\n",
       "      <td>J</td>\n",
       "      <td>Belgium</td>\n",
       "      <td>France</td>\n",
       "      <td>2</td>\n",
       "      <td>BEL</td>\n",
       "      <td>FRA</td>\n",
       "    </tr>\n",
       "    <tr>\n",
       "      <th>3</th>\n",
       "      <td>1975</td>\n",
       "      <td>f</td>\n",
       "      <td>J</td>\n",
       "      <td>Belgium</td>\n",
       "      <td>Germany</td>\n",
       "      <td>0</td>\n",
       "      <td>BEL</td>\n",
       "      <td>DEU</td>\n",
       "    </tr>\n",
       "    <tr>\n",
       "      <th>4</th>\n",
       "      <td>1975</td>\n",
       "      <td>f</td>\n",
       "      <td>J</td>\n",
       "      <td>Belgium</td>\n",
       "      <td>Ireland</td>\n",
       "      <td>12</td>\n",
       "      <td>BEL</td>\n",
       "      <td>IRL</td>\n",
       "    </tr>\n",
       "  </tbody>\n",
       "</table>\n",
       "</div>"
      ],
      "text/plain": [
       "   Year (semi-) final Jury or Televoting From country To country  Points  \\\n",
       "0  1975             f                  J      Belgium    Belgium       0   \n",
       "1  1975             f                  J      Belgium    Finland       0   \n",
       "2  1975             f                  J      Belgium     France       2   \n",
       "3  1975             f                  J      Belgium    Germany       0   \n",
       "4  1975             f                  J      Belgium    Ireland      12   \n",
       "\n",
       "  from_country_code to_country_code  \n",
       "0               BEL             BEL  \n",
       "1               BEL             FIN  \n",
       "2               BEL             FRA  \n",
       "3               BEL             DEU  \n",
       "4               BEL             IRL  "
      ]
     },
     "execution_count": 56,
     "metadata": {},
     "output_type": "execute_result"
    }
   ],
   "source": [
    "# Include countries codes in the dataset - we will need them to\n",
    "# create choropleth maps\n",
    "code_df = pd.read_csv('https://raw.githubusercontent.com/plotly/datasets/master/2014_world_gdp_with_codes.csv')\n",
    "country_to_code_dict = {country: code for country, code in zip(code_df['COUNTRY'], code_df['CODE'])}\n",
    "\n",
    "from_codes = [country_to_code_dict[country] for country in votes_df['From country']]\n",
    "to_codes = [country_to_code_dict[country] for country in votes_df['To country']]\n",
    "votes_df['from_country_code'] = from_codes\n",
    "votes_df['to_country_code'] = to_codes\n",
    "votes_df.head()"
   ]
  },
  {
   "cell_type": "code",
   "execution_count": 57,
   "metadata": {},
   "outputs": [],
   "source": [
    "# votes_df.to_csv('./data/votes_with_countries_codes.csv', index=False)\n",
    "# df = pd.read_csv('./data/votes_with_countries_codes.csv')"
   ]
  },
  {
   "cell_type": "code",
   "execution_count": 58,
   "metadata": {},
   "outputs": [
    {
     "data": {
      "text/html": [
       "<div>\n",
       "<style scoped>\n",
       "    .dataframe tbody tr th:only-of-type {\n",
       "        vertical-align: middle;\n",
       "    }\n",
       "\n",
       "    .dataframe tbody tr th {\n",
       "        vertical-align: top;\n",
       "    }\n",
       "\n",
       "    .dataframe thead th {\n",
       "        text-align: right;\n",
       "    }\n",
       "</style>\n",
       "<table border=\"1\" class=\"dataframe\">\n",
       "  <thead>\n",
       "    <tr style=\"text-align: right;\">\n",
       "      <th></th>\n",
       "      <th>To country</th>\n",
       "      <th>Points</th>\n",
       "      <th>Code</th>\n",
       "    </tr>\n",
       "  </thead>\n",
       "  <tbody>\n",
       "    <tr>\n",
       "      <th>0</th>\n",
       "      <td>Albania</td>\n",
       "      <td>1.8</td>\n",
       "      <td>ALB</td>\n",
       "    </tr>\n",
       "    <tr>\n",
       "      <th>1</th>\n",
       "      <td>Armenia</td>\n",
       "      <td>3.0</td>\n",
       "      <td>ARM</td>\n",
       "    </tr>\n",
       "    <tr>\n",
       "      <th>2</th>\n",
       "      <td>Austria</td>\n",
       "      <td>1.9</td>\n",
       "      <td>AUT</td>\n",
       "    </tr>\n",
       "    <tr>\n",
       "      <th>3</th>\n",
       "      <td>Azerbaijan</td>\n",
       "      <td>3.3</td>\n",
       "      <td>AZE</td>\n",
       "    </tr>\n",
       "    <tr>\n",
       "      <th>4</th>\n",
       "      <td>Belarus</td>\n",
       "      <td>1.6</td>\n",
       "      <td>BLR</td>\n",
       "    </tr>\n",
       "  </tbody>\n",
       "</table>\n",
       "</div>"
      ],
      "text/plain": [
       "   To country  Points Code\n",
       "0     Albania     1.8  ALB\n",
       "1     Armenia     3.0  ARM\n",
       "2     Austria     1.9  AUT\n",
       "3  Azerbaijan     3.3  AZE\n",
       "4     Belarus     1.6  BLR"
      ]
     },
     "execution_count": 58,
     "metadata": {},
     "output_type": "execute_result"
    }
   ],
   "source": [
    "# Dataframe with the average amount of points each country was getting\n",
    "# across the years it has participated\n",
    "avg_from_all_by_country = votes_df.groupby(['To country']).mean().reset_index()[['To country', 'Points']]\n",
    "avg_from_all_by_country['Points'] = avg_from_all_by_country['Points'].apply(lambda x: round(x, 1))\n",
    "\n",
    "codes = [country_to_code_dict[country] for country in avg_from_all_by_country['To country']]\n",
    "avg_from_all_by_country['Code'] = codes\n",
    "avg_from_all_by_country.head()"
   ]
  },
  {
   "cell_type": "code",
   "execution_count": 59,
   "metadata": {},
   "outputs": [],
   "source": [
    "df = avg_from_all_by_country"
   ]
  },
  {
   "cell_type": "code",
   "execution_count": 133,
   "metadata": {
    "scrolled": true
   },
   "outputs": [
    {
     "data": {
      "application/vnd.plotly.v1+json": {
       "config": {
        "plotlyServerURL": "https://plot.ly"
       },
       "data": [
        {
         "autocolorscale": false,
         "colorscale": [
          [
           0,
           "rgb(247,251,255)"
          ],
          [
           0.125,
           "rgb(222,235,247)"
          ],
          [
           0.25,
           "rgb(198,219,239)"
          ],
          [
           0.375,
           "rgb(158,202,225)"
          ],
          [
           0.5,
           "rgb(107,174,214)"
          ],
          [
           0.625,
           "rgb(66,146,198)"
          ],
          [
           0.75,
           "rgb(33,113,181)"
          ],
          [
           0.875,
           "rgb(8,81,156)"
          ],
          [
           1,
           "rgb(8,48,107)"
          ]
         ],
         "locations": [
          "ALB",
          "ARM",
          "AUT",
          "AZE",
          "BLR",
          "BEL",
          "BIH",
          "BGR",
          "HRV",
          "CYP",
          "CZE",
          "DNK",
          "EST",
          "FIN",
          "FRA",
          "GEO",
          "DEU",
          "GRC",
          "HUN",
          "ISL",
          "IRL",
          "ISR",
          "ITA",
          "LVA",
          "LTU",
          "LUX",
          "MKD",
          "MLT",
          "MDA",
          "MCO",
          "MNE",
          "MAR",
          "NLD",
          "NOR",
          "POL",
          "PRT",
          "ROU",
          "RUS",
          "SMR",
          "SRB",
          "SVK",
          "SVN",
          "ESP",
          "SWE",
          "CHE",
          "TUR",
          "UKR",
          "GBR"
         ],
         "marker": {
          "line": {
           "color": "darkgray",
           "width": 0.5
          }
         },
         "text": [
          "Albania",
          "Armenia",
          "Austria",
          "Azerbaijan",
          "Belarus",
          "Belgium",
          "Bosnia and Herzegovina",
          "Bulgaria",
          "Croatia",
          "Cyprus",
          "Czech Republic",
          "Denmark",
          "Estonia",
          "Finland",
          "France",
          "Georgia",
          "Germany",
          "Greece",
          "Hungary",
          "Iceland",
          "Ireland",
          "Israel",
          "Italy",
          "Latvia",
          "Lithuania",
          "Luxembourg",
          "Macedonia",
          "Malta",
          "Moldova",
          "Monaco",
          "Montenegro",
          "Morocco",
          "Netherlands",
          "Norway",
          "Poland",
          "Portugal",
          "Romania",
          "Russia",
          "San Marino",
          "Serbia",
          "Slovakia",
          "Slovenia",
          "Spain",
          "Sweden",
          "Switzerland",
          "Turkey",
          "Ukraine",
          "United Kingdom"
         ],
         "type": "choropleth",
         "z": [
          1.8,
          3,
          1.9,
          3.3,
          1.6,
          2.4,
          2.1,
          3.4,
          2,
          1.9,
          1,
          2.8,
          2.7,
          1.5,
          2.4,
          2.1,
          2.4,
          2.8,
          1.8,
          1.9,
          3.4,
          2.9,
          3.5,
          2.9,
          1.2,
          2.4,
          1.3,
          2.7,
          1.9,
          3.5,
          1.1,
          0.4,
          2.7,
          2.6,
          1.3,
          1.4,
          2,
          3.8,
          0.4,
          3.1,
          0.6,
          1.4,
          2,
          3.6,
          2.6,
          2.3,
          3.7,
          2.8
         ]
        }
       ],
       "layout": {
        "geo": {
         "projection": {
          "type": "equirectangular"
         },
         "showcoastlines": false,
         "showframe": false
        },
        "template": {
         "data": {
          "bar": [
           {
            "error_x": {
             "color": "#2a3f5f"
            },
            "error_y": {
             "color": "#2a3f5f"
            },
            "marker": {
             "line": {
              "color": "#E5ECF6",
              "width": 0.5
             }
            },
            "type": "bar"
           }
          ],
          "barpolar": [
           {
            "marker": {
             "line": {
              "color": "#E5ECF6",
              "width": 0.5
             }
            },
            "type": "barpolar"
           }
          ],
          "carpet": [
           {
            "aaxis": {
             "endlinecolor": "#2a3f5f",
             "gridcolor": "white",
             "linecolor": "white",
             "minorgridcolor": "white",
             "startlinecolor": "#2a3f5f"
            },
            "baxis": {
             "endlinecolor": "#2a3f5f",
             "gridcolor": "white",
             "linecolor": "white",
             "minorgridcolor": "white",
             "startlinecolor": "#2a3f5f"
            },
            "type": "carpet"
           }
          ],
          "choropleth": [
           {
            "colorbar": {
             "outlinewidth": 0,
             "ticks": ""
            },
            "type": "choropleth"
           }
          ],
          "contour": [
           {
            "colorbar": {
             "outlinewidth": 0,
             "ticks": ""
            },
            "colorscale": [
             [
              0,
              "#0d0887"
             ],
             [
              0.1111111111111111,
              "#46039f"
             ],
             [
              0.2222222222222222,
              "#7201a8"
             ],
             [
              0.3333333333333333,
              "#9c179e"
             ],
             [
              0.4444444444444444,
              "#bd3786"
             ],
             [
              0.5555555555555556,
              "#d8576b"
             ],
             [
              0.6666666666666666,
              "#ed7953"
             ],
             [
              0.7777777777777778,
              "#fb9f3a"
             ],
             [
              0.8888888888888888,
              "#fdca26"
             ],
             [
              1,
              "#f0f921"
             ]
            ],
            "type": "contour"
           }
          ],
          "contourcarpet": [
           {
            "colorbar": {
             "outlinewidth": 0,
             "ticks": ""
            },
            "type": "contourcarpet"
           }
          ],
          "heatmap": [
           {
            "colorbar": {
             "outlinewidth": 0,
             "ticks": ""
            },
            "colorscale": [
             [
              0,
              "#0d0887"
             ],
             [
              0.1111111111111111,
              "#46039f"
             ],
             [
              0.2222222222222222,
              "#7201a8"
             ],
             [
              0.3333333333333333,
              "#9c179e"
             ],
             [
              0.4444444444444444,
              "#bd3786"
             ],
             [
              0.5555555555555556,
              "#d8576b"
             ],
             [
              0.6666666666666666,
              "#ed7953"
             ],
             [
              0.7777777777777778,
              "#fb9f3a"
             ],
             [
              0.8888888888888888,
              "#fdca26"
             ],
             [
              1,
              "#f0f921"
             ]
            ],
            "type": "heatmap"
           }
          ],
          "heatmapgl": [
           {
            "colorbar": {
             "outlinewidth": 0,
             "ticks": ""
            },
            "colorscale": [
             [
              0,
              "#0d0887"
             ],
             [
              0.1111111111111111,
              "#46039f"
             ],
             [
              0.2222222222222222,
              "#7201a8"
             ],
             [
              0.3333333333333333,
              "#9c179e"
             ],
             [
              0.4444444444444444,
              "#bd3786"
             ],
             [
              0.5555555555555556,
              "#d8576b"
             ],
             [
              0.6666666666666666,
              "#ed7953"
             ],
             [
              0.7777777777777778,
              "#fb9f3a"
             ],
             [
              0.8888888888888888,
              "#fdca26"
             ],
             [
              1,
              "#f0f921"
             ]
            ],
            "type": "heatmapgl"
           }
          ],
          "histogram": [
           {
            "marker": {
             "colorbar": {
              "outlinewidth": 0,
              "ticks": ""
             }
            },
            "type": "histogram"
           }
          ],
          "histogram2d": [
           {
            "colorbar": {
             "outlinewidth": 0,
             "ticks": ""
            },
            "colorscale": [
             [
              0,
              "#0d0887"
             ],
             [
              0.1111111111111111,
              "#46039f"
             ],
             [
              0.2222222222222222,
              "#7201a8"
             ],
             [
              0.3333333333333333,
              "#9c179e"
             ],
             [
              0.4444444444444444,
              "#bd3786"
             ],
             [
              0.5555555555555556,
              "#d8576b"
             ],
             [
              0.6666666666666666,
              "#ed7953"
             ],
             [
              0.7777777777777778,
              "#fb9f3a"
             ],
             [
              0.8888888888888888,
              "#fdca26"
             ],
             [
              1,
              "#f0f921"
             ]
            ],
            "type": "histogram2d"
           }
          ],
          "histogram2dcontour": [
           {
            "colorbar": {
             "outlinewidth": 0,
             "ticks": ""
            },
            "colorscale": [
             [
              0,
              "#0d0887"
             ],
             [
              0.1111111111111111,
              "#46039f"
             ],
             [
              0.2222222222222222,
              "#7201a8"
             ],
             [
              0.3333333333333333,
              "#9c179e"
             ],
             [
              0.4444444444444444,
              "#bd3786"
             ],
             [
              0.5555555555555556,
              "#d8576b"
             ],
             [
              0.6666666666666666,
              "#ed7953"
             ],
             [
              0.7777777777777778,
              "#fb9f3a"
             ],
             [
              0.8888888888888888,
              "#fdca26"
             ],
             [
              1,
              "#f0f921"
             ]
            ],
            "type": "histogram2dcontour"
           }
          ],
          "mesh3d": [
           {
            "colorbar": {
             "outlinewidth": 0,
             "ticks": ""
            },
            "type": "mesh3d"
           }
          ],
          "parcoords": [
           {
            "line": {
             "colorbar": {
              "outlinewidth": 0,
              "ticks": ""
             }
            },
            "type": "parcoords"
           }
          ],
          "pie": [
           {
            "automargin": true,
            "type": "pie"
           }
          ],
          "scatter": [
           {
            "marker": {
             "colorbar": {
              "outlinewidth": 0,
              "ticks": ""
             }
            },
            "type": "scatter"
           }
          ],
          "scatter3d": [
           {
            "line": {
             "colorbar": {
              "outlinewidth": 0,
              "ticks": ""
             }
            },
            "marker": {
             "colorbar": {
              "outlinewidth": 0,
              "ticks": ""
             }
            },
            "type": "scatter3d"
           }
          ],
          "scattercarpet": [
           {
            "marker": {
             "colorbar": {
              "outlinewidth": 0,
              "ticks": ""
             }
            },
            "type": "scattercarpet"
           }
          ],
          "scattergeo": [
           {
            "marker": {
             "colorbar": {
              "outlinewidth": 0,
              "ticks": ""
             }
            },
            "type": "scattergeo"
           }
          ],
          "scattergl": [
           {
            "marker": {
             "colorbar": {
              "outlinewidth": 0,
              "ticks": ""
             }
            },
            "type": "scattergl"
           }
          ],
          "scattermapbox": [
           {
            "marker": {
             "colorbar": {
              "outlinewidth": 0,
              "ticks": ""
             }
            },
            "type": "scattermapbox"
           }
          ],
          "scatterpolar": [
           {
            "marker": {
             "colorbar": {
              "outlinewidth": 0,
              "ticks": ""
             }
            },
            "type": "scatterpolar"
           }
          ],
          "scatterpolargl": [
           {
            "marker": {
             "colorbar": {
              "outlinewidth": 0,
              "ticks": ""
             }
            },
            "type": "scatterpolargl"
           }
          ],
          "scatterternary": [
           {
            "marker": {
             "colorbar": {
              "outlinewidth": 0,
              "ticks": ""
             }
            },
            "type": "scatterternary"
           }
          ],
          "surface": [
           {
            "colorbar": {
             "outlinewidth": 0,
             "ticks": ""
            },
            "colorscale": [
             [
              0,
              "#0d0887"
             ],
             [
              0.1111111111111111,
              "#46039f"
             ],
             [
              0.2222222222222222,
              "#7201a8"
             ],
             [
              0.3333333333333333,
              "#9c179e"
             ],
             [
              0.4444444444444444,
              "#bd3786"
             ],
             [
              0.5555555555555556,
              "#d8576b"
             ],
             [
              0.6666666666666666,
              "#ed7953"
             ],
             [
              0.7777777777777778,
              "#fb9f3a"
             ],
             [
              0.8888888888888888,
              "#fdca26"
             ],
             [
              1,
              "#f0f921"
             ]
            ],
            "type": "surface"
           }
          ],
          "table": [
           {
            "cells": {
             "fill": {
              "color": "#EBF0F8"
             },
             "line": {
              "color": "white"
             }
            },
            "header": {
             "fill": {
              "color": "#C8D4E3"
             },
             "line": {
              "color": "white"
             }
            },
            "type": "table"
           }
          ]
         },
         "layout": {
          "annotationdefaults": {
           "arrowcolor": "#2a3f5f",
           "arrowhead": 0,
           "arrowwidth": 1
          },
          "coloraxis": {
           "colorbar": {
            "outlinewidth": 0,
            "ticks": ""
           }
          },
          "colorscale": {
           "diverging": [
            [
             0,
             "#8e0152"
            ],
            [
             0.1,
             "#c51b7d"
            ],
            [
             0.2,
             "#de77ae"
            ],
            [
             0.3,
             "#f1b6da"
            ],
            [
             0.4,
             "#fde0ef"
            ],
            [
             0.5,
             "#f7f7f7"
            ],
            [
             0.6,
             "#e6f5d0"
            ],
            [
             0.7,
             "#b8e186"
            ],
            [
             0.8,
             "#7fbc41"
            ],
            [
             0.9,
             "#4d9221"
            ],
            [
             1,
             "#276419"
            ]
           ],
           "sequential": [
            [
             0,
             "#0d0887"
            ],
            [
             0.1111111111111111,
             "#46039f"
            ],
            [
             0.2222222222222222,
             "#7201a8"
            ],
            [
             0.3333333333333333,
             "#9c179e"
            ],
            [
             0.4444444444444444,
             "#bd3786"
            ],
            [
             0.5555555555555556,
             "#d8576b"
            ],
            [
             0.6666666666666666,
             "#ed7953"
            ],
            [
             0.7777777777777778,
             "#fb9f3a"
            ],
            [
             0.8888888888888888,
             "#fdca26"
            ],
            [
             1,
             "#f0f921"
            ]
           ],
           "sequentialminus": [
            [
             0,
             "#0d0887"
            ],
            [
             0.1111111111111111,
             "#46039f"
            ],
            [
             0.2222222222222222,
             "#7201a8"
            ],
            [
             0.3333333333333333,
             "#9c179e"
            ],
            [
             0.4444444444444444,
             "#bd3786"
            ],
            [
             0.5555555555555556,
             "#d8576b"
            ],
            [
             0.6666666666666666,
             "#ed7953"
            ],
            [
             0.7777777777777778,
             "#fb9f3a"
            ],
            [
             0.8888888888888888,
             "#fdca26"
            ],
            [
             1,
             "#f0f921"
            ]
           ]
          },
          "colorway": [
           "#636efa",
           "#EF553B",
           "#00cc96",
           "#ab63fa",
           "#FFA15A",
           "#19d3f3",
           "#FF6692",
           "#B6E880",
           "#FF97FF",
           "#FECB52"
          ],
          "font": {
           "color": "#2a3f5f"
          },
          "geo": {
           "bgcolor": "white",
           "lakecolor": "white",
           "landcolor": "#E5ECF6",
           "showlakes": true,
           "showland": true,
           "subunitcolor": "white"
          },
          "hoverlabel": {
           "align": "left"
          },
          "hovermode": "closest",
          "mapbox": {
           "style": "light"
          },
          "paper_bgcolor": "white",
          "plot_bgcolor": "#E5ECF6",
          "polar": {
           "angularaxis": {
            "gridcolor": "white",
            "linecolor": "white",
            "ticks": ""
           },
           "bgcolor": "#E5ECF6",
           "radialaxis": {
            "gridcolor": "white",
            "linecolor": "white",
            "ticks": ""
           }
          },
          "scene": {
           "xaxis": {
            "backgroundcolor": "#E5ECF6",
            "gridcolor": "white",
            "gridwidth": 2,
            "linecolor": "white",
            "showbackground": true,
            "ticks": "",
            "zerolinecolor": "white"
           },
           "yaxis": {
            "backgroundcolor": "#E5ECF6",
            "gridcolor": "white",
            "gridwidth": 2,
            "linecolor": "white",
            "showbackground": true,
            "ticks": "",
            "zerolinecolor": "white"
           },
           "zaxis": {
            "backgroundcolor": "#E5ECF6",
            "gridcolor": "white",
            "gridwidth": 2,
            "linecolor": "white",
            "showbackground": true,
            "ticks": "",
            "zerolinecolor": "white"
           }
          },
          "shapedefaults": {
           "line": {
            "color": "#2a3f5f"
           }
          },
          "ternary": {
           "aaxis": {
            "gridcolor": "white",
            "linecolor": "white",
            "ticks": ""
           },
           "baxis": {
            "gridcolor": "white",
            "linecolor": "white",
            "ticks": ""
           },
           "bgcolor": "#E5ECF6",
           "caxis": {
            "gridcolor": "white",
            "linecolor": "white",
            "ticks": ""
           }
          },
          "title": {
           "x": 0.05
          },
          "xaxis": {
           "automargin": true,
           "gridcolor": "white",
           "linecolor": "white",
           "ticks": "",
           "title": {
            "standoff": 15
           },
           "zerolinecolor": "white",
           "zerolinewidth": 2
          },
          "yaxis": {
           "automargin": true,
           "gridcolor": "white",
           "linecolor": "white",
           "ticks": "",
           "title": {
            "standoff": 15
           },
           "zerolinecolor": "white",
           "zerolinewidth": 2
          }
         }
        },
        "title": {
         "text": "Average points got by each country"
        }
       }
      },
      "text/html": [
       "<div>\n",
       "        \n",
       "        \n",
       "            <div id=\"5da31691-36d3-431a-86a3-627b918f58e6\" class=\"plotly-graph-div\" style=\"height:525px; width:100%;\"></div>\n",
       "            <script type=\"text/javascript\">\n",
       "                require([\"plotly\"], function(Plotly) {\n",
       "                    window.PLOTLYENV=window.PLOTLYENV || {};\n",
       "                    \n",
       "                if (document.getElementById(\"5da31691-36d3-431a-86a3-627b918f58e6\")) {\n",
       "                    Plotly.newPlot(\n",
       "                        '5da31691-36d3-431a-86a3-627b918f58e6',\n",
       "                        [{\"autocolorscale\": false, \"colorscale\": [[0.0, \"rgb(247,251,255)\"], [0.125, \"rgb(222,235,247)\"], [0.25, \"rgb(198,219,239)\"], [0.375, \"rgb(158,202,225)\"], [0.5, \"rgb(107,174,214)\"], [0.625, \"rgb(66,146,198)\"], [0.75, \"rgb(33,113,181)\"], [0.875, \"rgb(8,81,156)\"], [1.0, \"rgb(8,48,107)\"]], \"locations\": [\"ALB\", \"ARM\", \"AUT\", \"AZE\", \"BLR\", \"BEL\", \"BIH\", \"BGR\", \"HRV\", \"CYP\", \"CZE\", \"DNK\", \"EST\", \"FIN\", \"FRA\", \"GEO\", \"DEU\", \"GRC\", \"HUN\", \"ISL\", \"IRL\", \"ISR\", \"ITA\", \"LVA\", \"LTU\", \"LUX\", \"MKD\", \"MLT\", \"MDA\", \"MCO\", \"MNE\", \"MAR\", \"NLD\", \"NOR\", \"POL\", \"PRT\", \"ROU\", \"RUS\", \"SMR\", \"SRB\", \"SVK\", \"SVN\", \"ESP\", \"SWE\", \"CHE\", \"TUR\", \"UKR\", \"GBR\"], \"marker\": {\"line\": {\"color\": \"darkgray\", \"width\": 0.5}}, \"text\": [\"Albania\", \"Armenia\", \"Austria\", \"Azerbaijan\", \"Belarus\", \"Belgium\", \"Bosnia and Herzegovina\", \"Bulgaria\", \"Croatia\", \"Cyprus\", \"Czech Republic\", \"Denmark\", \"Estonia\", \"Finland\", \"France\", \"Georgia\", \"Germany\", \"Greece\", \"Hungary\", \"Iceland\", \"Ireland\", \"Israel\", \"Italy\", \"Latvia\", \"Lithuania\", \"Luxembourg\", \"Macedonia\", \"Malta\", \"Moldova\", \"Monaco\", \"Montenegro\", \"Morocco\", \"Netherlands\", \"Norway\", \"Poland\", \"Portugal\", \"Romania\", \"Russia\", \"San Marino\", \"Serbia\", \"Slovakia\", \"Slovenia\", \"Spain\", \"Sweden\", \"Switzerland\", \"Turkey\", \"Ukraine\", \"United Kingdom\"], \"type\": \"choropleth\", \"z\": [1.8, 3.0, 1.9, 3.3, 1.6, 2.4, 2.1, 3.4, 2.0, 1.9, 1.0, 2.8, 2.7, 1.5, 2.4, 2.1, 2.4, 2.8, 1.8, 1.9, 3.4, 2.9, 3.5, 2.9, 1.2, 2.4, 1.3, 2.7, 1.9, 3.5, 1.1, 0.4, 2.7, 2.6, 1.3, 1.4, 2.0, 3.8, 0.4, 3.1, 0.6, 1.4, 2.0, 3.6, 2.6, 2.3, 3.7, 2.8]}],\n",
       "                        {\"geo\": {\"projection\": {\"type\": \"equirectangular\"}, \"showcoastlines\": false, \"showframe\": false}, \"template\": {\"data\": {\"bar\": [{\"error_x\": {\"color\": \"#2a3f5f\"}, \"error_y\": {\"color\": \"#2a3f5f\"}, \"marker\": {\"line\": {\"color\": \"#E5ECF6\", \"width\": 0.5}}, \"type\": \"bar\"}], \"barpolar\": [{\"marker\": {\"line\": {\"color\": \"#E5ECF6\", \"width\": 0.5}}, \"type\": \"barpolar\"}], \"carpet\": [{\"aaxis\": {\"endlinecolor\": \"#2a3f5f\", \"gridcolor\": \"white\", \"linecolor\": \"white\", \"minorgridcolor\": \"white\", \"startlinecolor\": \"#2a3f5f\"}, \"baxis\": {\"endlinecolor\": \"#2a3f5f\", \"gridcolor\": \"white\", \"linecolor\": \"white\", \"minorgridcolor\": \"white\", \"startlinecolor\": \"#2a3f5f\"}, \"type\": \"carpet\"}], \"choropleth\": [{\"colorbar\": {\"outlinewidth\": 0, \"ticks\": \"\"}, \"type\": \"choropleth\"}], \"contour\": [{\"colorbar\": {\"outlinewidth\": 0, \"ticks\": \"\"}, \"colorscale\": [[0.0, \"#0d0887\"], [0.1111111111111111, \"#46039f\"], [0.2222222222222222, \"#7201a8\"], [0.3333333333333333, \"#9c179e\"], [0.4444444444444444, \"#bd3786\"], [0.5555555555555556, \"#d8576b\"], [0.6666666666666666, \"#ed7953\"], [0.7777777777777778, \"#fb9f3a\"], [0.8888888888888888, \"#fdca26\"], [1.0, \"#f0f921\"]], \"type\": \"contour\"}], \"contourcarpet\": [{\"colorbar\": {\"outlinewidth\": 0, \"ticks\": \"\"}, \"type\": \"contourcarpet\"}], \"heatmap\": [{\"colorbar\": {\"outlinewidth\": 0, \"ticks\": \"\"}, \"colorscale\": [[0.0, \"#0d0887\"], [0.1111111111111111, \"#46039f\"], [0.2222222222222222, \"#7201a8\"], [0.3333333333333333, \"#9c179e\"], [0.4444444444444444, \"#bd3786\"], [0.5555555555555556, \"#d8576b\"], [0.6666666666666666, \"#ed7953\"], [0.7777777777777778, \"#fb9f3a\"], [0.8888888888888888, \"#fdca26\"], [1.0, \"#f0f921\"]], \"type\": \"heatmap\"}], \"heatmapgl\": [{\"colorbar\": {\"outlinewidth\": 0, \"ticks\": \"\"}, \"colorscale\": [[0.0, \"#0d0887\"], [0.1111111111111111, \"#46039f\"], [0.2222222222222222, \"#7201a8\"], [0.3333333333333333, \"#9c179e\"], [0.4444444444444444, \"#bd3786\"], [0.5555555555555556, \"#d8576b\"], [0.6666666666666666, \"#ed7953\"], [0.7777777777777778, \"#fb9f3a\"], [0.8888888888888888, \"#fdca26\"], [1.0, \"#f0f921\"]], \"type\": \"heatmapgl\"}], \"histogram\": [{\"marker\": {\"colorbar\": {\"outlinewidth\": 0, \"ticks\": \"\"}}, \"type\": \"histogram\"}], \"histogram2d\": [{\"colorbar\": {\"outlinewidth\": 0, \"ticks\": \"\"}, \"colorscale\": [[0.0, \"#0d0887\"], [0.1111111111111111, \"#46039f\"], [0.2222222222222222, \"#7201a8\"], [0.3333333333333333, \"#9c179e\"], [0.4444444444444444, \"#bd3786\"], [0.5555555555555556, \"#d8576b\"], [0.6666666666666666, \"#ed7953\"], [0.7777777777777778, \"#fb9f3a\"], [0.8888888888888888, \"#fdca26\"], [1.0, \"#f0f921\"]], \"type\": \"histogram2d\"}], \"histogram2dcontour\": [{\"colorbar\": {\"outlinewidth\": 0, \"ticks\": \"\"}, \"colorscale\": [[0.0, \"#0d0887\"], [0.1111111111111111, \"#46039f\"], [0.2222222222222222, \"#7201a8\"], [0.3333333333333333, \"#9c179e\"], [0.4444444444444444, \"#bd3786\"], [0.5555555555555556, \"#d8576b\"], [0.6666666666666666, \"#ed7953\"], [0.7777777777777778, \"#fb9f3a\"], [0.8888888888888888, \"#fdca26\"], [1.0, \"#f0f921\"]], \"type\": \"histogram2dcontour\"}], \"mesh3d\": [{\"colorbar\": {\"outlinewidth\": 0, \"ticks\": \"\"}, \"type\": \"mesh3d\"}], \"parcoords\": [{\"line\": {\"colorbar\": {\"outlinewidth\": 0, \"ticks\": \"\"}}, \"type\": \"parcoords\"}], \"pie\": [{\"automargin\": true, \"type\": \"pie\"}], \"scatter\": [{\"marker\": {\"colorbar\": {\"outlinewidth\": 0, \"ticks\": \"\"}}, \"type\": \"scatter\"}], \"scatter3d\": [{\"line\": {\"colorbar\": {\"outlinewidth\": 0, \"ticks\": \"\"}}, \"marker\": {\"colorbar\": {\"outlinewidth\": 0, \"ticks\": \"\"}}, \"type\": \"scatter3d\"}], \"scattercarpet\": [{\"marker\": {\"colorbar\": {\"outlinewidth\": 0, \"ticks\": \"\"}}, \"type\": \"scattercarpet\"}], \"scattergeo\": [{\"marker\": {\"colorbar\": {\"outlinewidth\": 0, \"ticks\": \"\"}}, \"type\": \"scattergeo\"}], \"scattergl\": [{\"marker\": {\"colorbar\": {\"outlinewidth\": 0, \"ticks\": \"\"}}, \"type\": \"scattergl\"}], \"scattermapbox\": [{\"marker\": {\"colorbar\": {\"outlinewidth\": 0, \"ticks\": \"\"}}, \"type\": \"scattermapbox\"}], \"scatterpolar\": [{\"marker\": {\"colorbar\": {\"outlinewidth\": 0, \"ticks\": \"\"}}, \"type\": \"scatterpolar\"}], \"scatterpolargl\": [{\"marker\": {\"colorbar\": {\"outlinewidth\": 0, \"ticks\": \"\"}}, \"type\": \"scatterpolargl\"}], \"scatterternary\": [{\"marker\": {\"colorbar\": {\"outlinewidth\": 0, \"ticks\": \"\"}}, \"type\": \"scatterternary\"}], \"surface\": [{\"colorbar\": {\"outlinewidth\": 0, \"ticks\": \"\"}, \"colorscale\": [[0.0, \"#0d0887\"], [0.1111111111111111, \"#46039f\"], [0.2222222222222222, \"#7201a8\"], [0.3333333333333333, \"#9c179e\"], [0.4444444444444444, \"#bd3786\"], [0.5555555555555556, \"#d8576b\"], [0.6666666666666666, \"#ed7953\"], [0.7777777777777778, \"#fb9f3a\"], [0.8888888888888888, \"#fdca26\"], [1.0, \"#f0f921\"]], \"type\": \"surface\"}], \"table\": [{\"cells\": {\"fill\": {\"color\": \"#EBF0F8\"}, \"line\": {\"color\": \"white\"}}, \"header\": {\"fill\": {\"color\": \"#C8D4E3\"}, \"line\": {\"color\": \"white\"}}, \"type\": \"table\"}]}, \"layout\": {\"annotationdefaults\": {\"arrowcolor\": \"#2a3f5f\", \"arrowhead\": 0, \"arrowwidth\": 1}, \"coloraxis\": {\"colorbar\": {\"outlinewidth\": 0, \"ticks\": \"\"}}, \"colorscale\": {\"diverging\": [[0, \"#8e0152\"], [0.1, \"#c51b7d\"], [0.2, \"#de77ae\"], [0.3, \"#f1b6da\"], [0.4, \"#fde0ef\"], [0.5, \"#f7f7f7\"], [0.6, \"#e6f5d0\"], [0.7, \"#b8e186\"], [0.8, \"#7fbc41\"], [0.9, \"#4d9221\"], [1, \"#276419\"]], \"sequential\": [[0.0, \"#0d0887\"], [0.1111111111111111, \"#46039f\"], [0.2222222222222222, \"#7201a8\"], [0.3333333333333333, \"#9c179e\"], [0.4444444444444444, \"#bd3786\"], [0.5555555555555556, \"#d8576b\"], [0.6666666666666666, \"#ed7953\"], [0.7777777777777778, \"#fb9f3a\"], [0.8888888888888888, \"#fdca26\"], [1.0, \"#f0f921\"]], \"sequentialminus\": [[0.0, \"#0d0887\"], [0.1111111111111111, \"#46039f\"], [0.2222222222222222, \"#7201a8\"], [0.3333333333333333, \"#9c179e\"], [0.4444444444444444, \"#bd3786\"], [0.5555555555555556, \"#d8576b\"], [0.6666666666666666, \"#ed7953\"], [0.7777777777777778, \"#fb9f3a\"], [0.8888888888888888, \"#fdca26\"], [1.0, \"#f0f921\"]]}, \"colorway\": [\"#636efa\", \"#EF553B\", \"#00cc96\", \"#ab63fa\", \"#FFA15A\", \"#19d3f3\", \"#FF6692\", \"#B6E880\", \"#FF97FF\", \"#FECB52\"], \"font\": {\"color\": \"#2a3f5f\"}, \"geo\": {\"bgcolor\": \"white\", \"lakecolor\": \"white\", \"landcolor\": \"#E5ECF6\", \"showlakes\": true, \"showland\": true, \"subunitcolor\": \"white\"}, \"hoverlabel\": {\"align\": \"left\"}, \"hovermode\": \"closest\", \"mapbox\": {\"style\": \"light\"}, \"paper_bgcolor\": \"white\", \"plot_bgcolor\": \"#E5ECF6\", \"polar\": {\"angularaxis\": {\"gridcolor\": \"white\", \"linecolor\": \"white\", \"ticks\": \"\"}, \"bgcolor\": \"#E5ECF6\", \"radialaxis\": {\"gridcolor\": \"white\", \"linecolor\": \"white\", \"ticks\": \"\"}}, \"scene\": {\"xaxis\": {\"backgroundcolor\": \"#E5ECF6\", \"gridcolor\": \"white\", \"gridwidth\": 2, \"linecolor\": \"white\", \"showbackground\": true, \"ticks\": \"\", \"zerolinecolor\": \"white\"}, \"yaxis\": {\"backgroundcolor\": \"#E5ECF6\", \"gridcolor\": \"white\", \"gridwidth\": 2, \"linecolor\": \"white\", \"showbackground\": true, \"ticks\": \"\", \"zerolinecolor\": \"white\"}, \"zaxis\": {\"backgroundcolor\": \"#E5ECF6\", \"gridcolor\": \"white\", \"gridwidth\": 2, \"linecolor\": \"white\", \"showbackground\": true, \"ticks\": \"\", \"zerolinecolor\": \"white\"}}, \"shapedefaults\": {\"line\": {\"color\": \"#2a3f5f\"}}, \"ternary\": {\"aaxis\": {\"gridcolor\": \"white\", \"linecolor\": \"white\", \"ticks\": \"\"}, \"baxis\": {\"gridcolor\": \"white\", \"linecolor\": \"white\", \"ticks\": \"\"}, \"bgcolor\": \"#E5ECF6\", \"caxis\": {\"gridcolor\": \"white\", \"linecolor\": \"white\", \"ticks\": \"\"}}, \"title\": {\"x\": 0.05}, \"xaxis\": {\"automargin\": true, \"gridcolor\": \"white\", \"linecolor\": \"white\", \"ticks\": \"\", \"title\": {\"standoff\": 15}, \"zerolinecolor\": \"white\", \"zerolinewidth\": 2}, \"yaxis\": {\"automargin\": true, \"gridcolor\": \"white\", \"linecolor\": \"white\", \"ticks\": \"\", \"title\": {\"standoff\": 15}, \"zerolinecolor\": \"white\", \"zerolinewidth\": 2}}}, \"title\": {\"text\": \"Average points got by each country\"}},\n",
       "                        {\"responsive\": true}\n",
       "                    ).then(function(){\n",
       "                            \n",
       "var gd = document.getElementById('5da31691-36d3-431a-86a3-627b918f58e6');\n",
       "var x = new MutationObserver(function (mutations, observer) {{\n",
       "        var display = window.getComputedStyle(gd).display;\n",
       "        if (!display || display === 'none') {{\n",
       "            console.log([gd, 'removed!']);\n",
       "            Plotly.purge(gd);\n",
       "            observer.disconnect();\n",
       "        }}\n",
       "}});\n",
       "\n",
       "// Listen for the removal of the full notebook cells\n",
       "var notebookContainer = gd.closest('#notebook-container');\n",
       "if (notebookContainer) {{\n",
       "    x.observe(notebookContainer, {childList: true});\n",
       "}}\n",
       "\n",
       "// Listen for the clearing of the current output cell\n",
       "var outputEl = gd.closest('.output');\n",
       "if (outputEl) {{\n",
       "    x.observe(outputEl, {childList: true});\n",
       "}}\n",
       "\n",
       "                        })\n",
       "                };\n",
       "                });\n",
       "            </script>\n",
       "        </div>"
      ]
     },
     "metadata": {},
     "output_type": "display_data"
    }
   ],
   "source": [
    "fig = go.Figure(data=go.Choropleth(\n",
    "    locations = df['Code'],\n",
    "    z = df['Points'],\n",
    "    text = df['To country'],\n",
    "    colorscale = 'Blues',\n",
    "    autocolorscale=False,\n",
    "    marker_line_color='darkgray',\n",
    "    marker_line_width=0.5,\n",
    "))\n",
    "\n",
    "fig.update_layout(\n",
    "    title_text='Average points got by each country',\n",
    "    geo=dict(\n",
    "        # scope='europe',\n",
    "        showframe=False,\n",
    "        showcoastlines=False,\n",
    "        projection_type='equirectangular'\n",
    "    ),\n",
    ")\n",
    "\n",
    "fig.show()"
   ]
  },
  {
   "cell_type": "code",
   "execution_count": 134,
   "metadata": {},
   "outputs": [],
   "source": [
    "coords = pd.read_csv('./data/countries_coordinates.csv')\n",
    "\n",
    "country_to_coord_dict = {country: (lat, lon) for country, lat, lon \n",
    "                         in zip(coords['name'], coords['latitude'], coords['longitude'])}"
   ]
  },
  {
   "cell_type": "code",
   "execution_count": 135,
   "metadata": {},
   "outputs": [
    {
     "data": {
      "text/plain": [
       "73"
      ]
     },
     "execution_count": 135,
     "metadata": {},
     "output_type": "execute_result"
    }
   ],
   "source": [
    "avg_votes_by_countries_pairs = votes_df\\\n",
    "                                [['From country', 'To country', 'Points']]\\\n",
    "                                .groupby(['From country', 'To country']).mean().reset_index()\n",
    "\n",
    "avg_votes_by_countries_pairs['Points'] = avg_votes_by_countries_pairs['Points'].apply(lambda x: round(x, 1))\n",
    "\n",
    "# Filter out pairs of countries with avg points < threshold to show\n",
    "threshold = 7.5\n",
    "avg_votes_by_countries_pairs = avg_votes_by_countries_pairs\\\n",
    "            [avg_votes_by_countries_pairs['Points'] >= threshold].reset_index(drop=True)\n",
    "\n",
    "avg_votes_by_countries_pairs.head()\n",
    "len(avg_votes_by_countries_pairs)"
   ]
  },
  {
   "cell_type": "code",
   "execution_count": 136,
   "metadata": {},
   "outputs": [
    {
     "data": {
      "application/vnd.plotly.v1+json": {
       "config": {
        "plotlyServerURL": "https://plot.ly"
       },
       "data": [
        {
         "autocolorscale": false,
         "colorscale": [
          [
           0,
           "rgb(247,251,255)"
          ],
          [
           0.125,
           "rgb(222,235,247)"
          ],
          [
           0.25,
           "rgb(198,219,239)"
          ],
          [
           0.375,
           "rgb(158,202,225)"
          ],
          [
           0.5,
           "rgb(107,174,214)"
          ],
          [
           0.625,
           "rgb(66,146,198)"
          ],
          [
           0.75,
           "rgb(33,113,181)"
          ],
          [
           0.875,
           "rgb(8,81,156)"
          ],
          [
           1,
           "rgb(8,48,107)"
          ]
         ],
         "locations": [
          "ALB",
          "ARM",
          "AUT",
          "AZE",
          "BLR",
          "BEL",
          "BIH",
          "BGR",
          "HRV",
          "CYP",
          "CZE",
          "DNK",
          "EST",
          "FIN",
          "FRA",
          "GEO",
          "DEU",
          "GRC",
          "HUN",
          "ISL",
          "IRL",
          "ISR",
          "ITA",
          "LVA",
          "LTU",
          "LUX",
          "MKD",
          "MLT",
          "MDA",
          "MCO",
          "MNE",
          "MAR",
          "NLD",
          "NOR",
          "POL",
          "PRT",
          "ROU",
          "RUS",
          "SMR",
          "SRB",
          "SVK",
          "SVN",
          "ESP",
          "SWE",
          "CHE",
          "TUR",
          "UKR",
          "GBR"
         ],
         "marker": {
          "line": {
           "color": "darkgray",
           "width": 0.5
          }
         },
         "text": [
          "Albania",
          "Armenia",
          "Austria",
          "Azerbaijan",
          "Belarus",
          "Belgium",
          "Bosnia and Herzegovina",
          "Bulgaria",
          "Croatia",
          "Cyprus",
          "Czech Republic",
          "Denmark",
          "Estonia",
          "Finland",
          "France",
          "Georgia",
          "Germany",
          "Greece",
          "Hungary",
          "Iceland",
          "Ireland",
          "Israel",
          "Italy",
          "Latvia",
          "Lithuania",
          "Luxembourg",
          "Macedonia",
          "Malta",
          "Moldova",
          "Monaco",
          "Montenegro",
          "Morocco",
          "Netherlands",
          "Norway",
          "Poland",
          "Portugal",
          "Romania",
          "Russia",
          "San Marino",
          "Serbia",
          "Slovakia",
          "Slovenia",
          "Spain",
          "Sweden",
          "Switzerland",
          "Turkey",
          "Ukraine",
          "United Kingdom"
         ],
         "type": "choropleth",
         "z": [
          1.8,
          3,
          1.9,
          3.3,
          1.6,
          2.4,
          2.1,
          3.4,
          2,
          1.9,
          1,
          2.8,
          2.7,
          1.5,
          2.4,
          2.1,
          2.4,
          2.8,
          1.8,
          1.9,
          3.4,
          2.9,
          3.5,
          2.9,
          1.2,
          2.4,
          1.3,
          2.7,
          1.9,
          3.5,
          1.1,
          0.4,
          2.7,
          2.6,
          1.3,
          1.4,
          2,
          3.8,
          0.4,
          3.1,
          0.6,
          1.4,
          2,
          3.6,
          2.6,
          2.3,
          3.7,
          2.8
         ]
        },
        {
         "hoverinfo": "text",
         "lat": [
          41.153332,
          39.074208
         ],
         "line": {
          "color": "red",
          "width": 2.4000000000000004
         },
         "lon": [
          20.168331,
          21.824312
         ],
         "mode": "lines",
         "text": "Albania to Greece: 9.9",
         "type": "scattergeo"
        },
        {
         "hoverinfo": "text",
         "lat": [
          41.153332,
          41.87194
         ],
         "line": {
          "color": "red",
          "width": 2.6999999999999993
         },
         "lon": [
          20.168331,
          12.56738
         ],
         "mode": "lines",
         "text": "Albania to Italy: 10.2",
         "type": "scattergeo"
        },
        {
         "hoverinfo": "text",
         "lat": [
          41.153332,
          38.963745
         ],
         "line": {
          "color": "red",
          "width": 1.4000000000000004
         },
         "lon": [
          20.168331,
          35.243322
         ],
         "mode": "lines",
         "text": "Albania to Turkey: 8.9",
         "type": "scattergeo"
        },
        {
         "hoverinfo": "text",
         "lat": [
          42.546245,
          39.399871999999995
         ],
         "line": {
          "color": "red",
          "width": 0.5
         },
         "lon": [
          1.6015540000000001,
          -8.224454
         ],
         "mode": "lines",
         "text": "Andorra to Portugal: 8.0",
         "type": "scattergeo"
        },
        {
         "hoverinfo": "text",
         "lat": [
          42.546245,
          40.463667
         ],
         "line": {
          "color": "red",
          "width": 2.5
         },
         "lon": [
          1.6015540000000001,
          -3.7492199999999998
         ],
         "mode": "lines",
         "text": "Andorra to Spain: 10.0",
         "type": "scattergeo"
        },
        {
         "hoverinfo": "text",
         "lat": [
          40.069099,
          42.315407
         ],
         "line": {
          "color": "red",
          "width": 2.0999999999999996
         },
         "lon": [
          45.038189,
          43.356891999999995
         ],
         "mode": "lines",
         "text": "Armenia to Georgia: 9.6",
         "type": "scattergeo"
        },
        {
         "hoverinfo": "text",
         "lat": [
          40.069099,
          42.708678000000006
         ],
         "line": {
          "color": "red",
          "width": 2.5
         },
         "lon": [
          45.038189,
          19.37439
         ],
         "mode": "lines",
         "text": "Armenia to Montenegro: 10.0",
         "type": "scattergeo"
        },
        {
         "hoverinfo": "text",
         "lat": [
          40.069099,
          61.52401
         ],
         "line": {
          "color": "red",
          "width": 2.1999999999999993
         },
         "lon": [
          45.038189,
          105.31875600000001
         ],
         "mode": "lines",
         "text": "Armenia to Russia: 9.7",
         "type": "scattergeo"
        },
        {
         "hoverinfo": "text",
         "lat": [
          40.143105,
          42.733883
         ],
         "line": {
          "color": "red",
          "width": 0.5
         },
         "lon": [
          47.576927000000005,
          25.48583
         ],
         "mode": "lines",
         "text": "Azerbaijan to Bulgaria: 8.0",
         "type": "scattergeo"
        },
        {
         "hoverinfo": "text",
         "lat": [
          40.143105,
          38.963745
         ],
         "line": {
          "color": "red",
          "width": 4.5
         },
         "lon": [
          47.576927000000005,
          35.243322
         ],
         "mode": "lines",
         "text": "Azerbaijan to Turkey: 12.0",
         "type": "scattergeo"
        },
        {
         "hoverinfo": "text",
         "lat": [
          40.143105,
          48.379433
         ],
         "line": {
          "color": "red",
          "width": 2.0999999999999996
         },
         "lon": [
          47.576927000000005,
          31.16558
         ],
         "mode": "lines",
         "text": "Azerbaijan to Ukraine: 9.6",
         "type": "scattergeo"
        },
        {
         "hoverinfo": "text",
         "lat": [
          53.709807,
          61.52401
         ],
         "line": {
          "color": "red",
          "width": 3.3000000000000007
         },
         "lon": [
          27.953389,
          105.31875600000001
         ],
         "mode": "lines",
         "text": "Belarus to Russia: 10.8",
         "type": "scattergeo"
        },
        {
         "hoverinfo": "text",
         "lat": [
          53.709807,
          48.379433
         ],
         "line": {
          "color": "red",
          "width": 1.0999999999999996
         },
         "lon": [
          27.953389,
          31.16558
         ],
         "mode": "lines",
         "text": "Belarus to Ukraine: 8.6",
         "type": "scattergeo"
        },
        {
         "hoverinfo": "text",
         "lat": [
          43.915886,
          45.1
         ],
         "line": {
          "color": "red",
          "width": 0.8000000000000007
         },
         "lon": [
          17.679076000000002,
          15.2
         ],
         "mode": "lines",
         "text": "Bosnia and Herzegovina to Croatia: 8.3",
         "type": "scattergeo"
        },
        {
         "hoverinfo": "text",
         "lat": [
          43.915886,
          44.016521000000004
         ],
         "line": {
          "color": "red",
          "width": 3.1999999999999993
         },
         "lon": [
          17.679076000000002,
          21.005859
         ],
         "mode": "lines",
         "text": "Bosnia and Herzegovina to Serbia: 10.7",
         "type": "scattergeo"
        },
        {
         "hoverinfo": "text",
         "lat": [
          42.733883,
          40.069099
         ],
         "line": {
          "color": "red",
          "width": 0.8000000000000007
         },
         "lon": [
          25.48583,
          45.038189
         ],
         "mode": "lines",
         "text": "Bulgaria to Armenia: 8.3",
         "type": "scattergeo"
        },
        {
         "hoverinfo": "text",
         "lat": [
          42.733883,
          39.074208
         ],
         "line": {
          "color": "red",
          "width": 1.5
         },
         "lon": [
          25.48583,
          21.824312
         ],
         "mode": "lines",
         "text": "Bulgaria to Greece: 9.0",
         "type": "scattergeo"
        },
        {
         "hoverinfo": "text",
         "lat": [
          45.1,
          43.915886
         ],
         "line": {
          "color": "red",
          "width": 0.5
         },
         "lon": [
          15.2,
          17.679076000000002
         ],
         "mode": "lines",
         "text": "Croatia to Bosnia and Herzegovina: 8.0",
         "type": "scattergeo"
        },
        {
         "hoverinfo": "text",
         "lat": [
          45.1,
          49.817492
         ],
         "line": {
          "color": "red",
          "width": 2.5
         },
         "lon": [
          15.2,
          15.472961999999999
         ],
         "mode": "lines",
         "text": "Croatia to Czech Republic: 10.0",
         "type": "scattergeo"
        },
        {
         "hoverinfo": "text",
         "lat": [
          45.1,
          44.016521000000004
         ],
         "line": {
          "color": "red",
          "width": 1.1999999999999993
         },
         "lon": [
          15.2,
          21.005859
         ],
         "mode": "lines",
         "text": "Croatia to Serbia: 8.7",
         "type": "scattergeo"
        },
        {
         "hoverinfo": "text",
         "lat": [
          35.126413,
          39.074208
         ],
         "line": {
          "color": "red",
          "width": 3.5999999999999996
         },
         "lon": [
          33.429859,
          21.824312
         ],
         "mode": "lines",
         "text": "Cyprus to Greece: 11.1",
         "type": "scattergeo"
        },
        {
         "hoverinfo": "text",
         "lat": [
          49.817492,
          40.143105
         ],
         "line": {
          "color": "red",
          "width": 0.5
         },
         "lon": [
          15.472961999999999,
          47.576927000000005
         ],
         "mode": "lines",
         "text": "Czech Republic to Azerbaijan: 8.0",
         "type": "scattergeo"
        },
        {
         "hoverinfo": "text",
         "lat": [
          56.26392,
          60.128161
         ],
         "line": {
          "color": "red",
          "width": 0.40000000000000036
         },
         "lon": [
          9.501785,
          18.643501
         ],
         "mode": "lines",
         "text": "Denmark to Sweden: 7.9",
         "type": "scattergeo"
        },
        {
         "hoverinfo": "text",
         "lat": [
          58.595271999999994,
          56.879635
         ],
         "line": {
          "color": "red",
          "width": 0.9000000000000004
         },
         "lon": [
          25.013607,
          24.603189
         ],
         "mode": "lines",
         "text": "Estonia to Latvia: 8.4",
         "type": "scattergeo"
        },
        {
         "hoverinfo": "text",
         "lat": [
          58.595271999999994,
          61.52401
         ],
         "line": {
          "color": "red",
          "width": 0.40000000000000036
         },
         "lon": [
          25.013607,
          105.31875600000001
         ],
         "mode": "lines",
         "text": "Estonia to Russia: 7.9",
         "type": "scattergeo"
        },
        {
         "hoverinfo": "text",
         "lat": [
          61.92411,
          58.595271999999994
         ],
         "line": {
          "color": "red",
          "width": 1.1999999999999993
         },
         "lon": [
          25.748151,
          25.013607
         ],
         "mode": "lines",
         "text": "Finland to Estonia: 8.7",
         "type": "scattergeo"
        },
        {
         "hoverinfo": "text",
         "lat": [
          46.227638,
          40.069099
         ],
         "line": {
          "color": "red",
          "width": 0.09999999999999964
         },
         "lon": [
          2.213749,
          45.038189
         ],
         "mode": "lines",
         "text": "France to Armenia: 7.6",
         "type": "scattergeo"
        },
        {
         "hoverinfo": "text",
         "lat": [
          46.227638,
          42.733883
         ],
         "line": {
          "color": "red",
          "width": 0
         },
         "lon": [
          2.213749,
          25.48583
         ],
         "mode": "lines",
         "text": "France to Bulgaria: 7.5",
         "type": "scattergeo"
        },
        {
         "hoverinfo": "text",
         "lat": [
          42.315407,
          40.069099
         ],
         "line": {
          "color": "red",
          "width": 2.1999999999999993
         },
         "lon": [
          43.356891999999995,
          45.038189
         ],
         "mode": "lines",
         "text": "Georgia to Armenia: 9.7",
         "type": "scattergeo"
        },
        {
         "hoverinfo": "text",
         "lat": [
          42.315407,
          40.143105
         ],
         "line": {
          "color": "red",
          "width": 0.2999999999999998
         },
         "lon": [
          43.356891999999995,
          47.576927000000005
         ],
         "mode": "lines",
         "text": "Georgia to Azerbaijan: 7.8",
         "type": "scattergeo"
        },
        {
         "hoverinfo": "text",
         "lat": [
          42.315407,
          48.379433
         ],
         "line": {
          "color": "red",
          "width": 1.0999999999999996
         },
         "lon": [
          43.356891999999995,
          31.16558
         ],
         "mode": "lines",
         "text": "Georgia to Ukraine: 8.6",
         "type": "scattergeo"
        },
        {
         "hoverinfo": "text",
         "lat": [
          39.074208,
          41.153332
         ],
         "line": {
          "color": "red",
          "width": 1.5
         },
         "lon": [
          21.824312,
          20.168331
         ],
         "mode": "lines",
         "text": "Greece to Albania: 9.0",
         "type": "scattergeo"
        },
        {
         "hoverinfo": "text",
         "lat": [
          39.074208,
          35.126413
         ],
         "line": {
          "color": "red",
          "width": 2.5999999999999996
         },
         "lon": [
          21.824312,
          33.429859
         ],
         "mode": "lines",
         "text": "Greece to Cyprus: 10.1",
         "type": "scattergeo"
        },
        {
         "hoverinfo": "text",
         "lat": [
          64.96305100000001,
          56.26392
         ],
         "line": {
          "color": "red",
          "width": 0.5999999999999996
         },
         "lon": [
          -19.020835,
          9.501785
         ],
         "mode": "lines",
         "text": "Iceland to Denmark: 8.1",
         "type": "scattergeo"
        },
        {
         "hoverinfo": "text",
         "lat": [
          56.879635,
          58.595271999999994
         ],
         "line": {
          "color": "red",
          "width": 0.5
         },
         "lon": [
          24.603189,
          25.013607
         ],
         "mode": "lines",
         "text": "Latvia to Estonia: 8.0",
         "type": "scattergeo"
        },
        {
         "hoverinfo": "text",
         "lat": [
          56.879635,
          61.52401
         ],
         "line": {
          "color": "red",
          "width": 0.5
         },
         "lon": [
          24.603189,
          105.31875600000001
         ],
         "mode": "lines",
         "text": "Latvia to Russia: 8.0",
         "type": "scattergeo"
        },
        {
         "hoverinfo": "text",
         "lat": [
          55.169438,
          42.315407
         ],
         "line": {
          "color": "red",
          "width": 1.8000000000000007
         },
         "lon": [
          23.881275,
          43.356891999999995
         ],
         "mode": "lines",
         "text": "Lithuania to Georgia: 9.3",
         "type": "scattergeo"
        },
        {
         "hoverinfo": "text",
         "lat": [
          55.169438,
          56.879635
         ],
         "line": {
          "color": "red",
          "width": 2.4000000000000004
         },
         "lon": [
          23.881275,
          24.603189
         ],
         "mode": "lines",
         "text": "Lithuania to Latvia: 9.9",
         "type": "scattergeo"
        },
        {
         "hoverinfo": "text",
         "lat": [
          41.608635,
          41.153332
         ],
         "line": {
          "color": "red",
          "width": 3.8000000000000007
         },
         "lon": [
          21.745275,
          20.168331
         ],
         "mode": "lines",
         "text": "Macedonia to Albania: 11.3",
         "type": "scattergeo"
        },
        {
         "hoverinfo": "text",
         "lat": [
          41.608635,
          42.733883
         ],
         "line": {
          "color": "red",
          "width": 1.5
         },
         "lon": [
          21.745275,
          25.48583
         ],
         "mode": "lines",
         "text": "Macedonia to Bulgaria: 9.0",
         "type": "scattergeo"
        },
        {
         "hoverinfo": "text",
         "lat": [
          41.608635,
          42.708678000000006
         ],
         "line": {
          "color": "red",
          "width": 0.5
         },
         "lon": [
          21.745275,
          19.37439
         ],
         "mode": "lines",
         "text": "Macedonia to Montenegro: 8.0",
         "type": "scattergeo"
        },
        {
         "hoverinfo": "text",
         "lat": [
          41.608635,
          44.016521000000004
         ],
         "line": {
          "color": "red",
          "width": 1.5999999999999996
         },
         "lon": [
          21.745275,
          21.005859
         ],
         "mode": "lines",
         "text": "Macedonia to Serbia: 9.1",
         "type": "scattergeo"
        },
        {
         "hoverinfo": "text",
         "lat": [
          35.937496,
          42.733883
         ],
         "line": {
          "color": "red",
          "width": 1
         },
         "lon": [
          14.375416,
          25.48583
         ],
         "mode": "lines",
         "text": "Malta to Bulgaria: 8.5",
         "type": "scattergeo"
        },
        {
         "hoverinfo": "text",
         "lat": [
          35.937496,
          41.87194
         ],
         "line": {
          "color": "red",
          "width": 0.09999999999999964
         },
         "lon": [
          14.375416,
          12.56738
         ],
         "mode": "lines",
         "text": "Malta to Italy: 7.6",
         "type": "scattergeo"
        },
        {
         "hoverinfo": "text",
         "lat": [
          47.411631,
          45.943160999999996
         ],
         "line": {
          "color": "red",
          "width": 3.9000000000000004
         },
         "lon": [
          28.369884999999996,
          24.96676
         ],
         "mode": "lines",
         "text": "Moldova to Romania: 11.4",
         "type": "scattergeo"
        },
        {
         "hoverinfo": "text",
         "lat": [
          47.411631,
          61.52401
         ],
         "line": {
          "color": "red",
          "width": 0.5999999999999996
         },
         "lon": [
          28.369884999999996,
          105.31875600000001
         ],
         "mode": "lines",
         "text": "Moldova to Russia: 8.1",
         "type": "scattergeo"
        },
        {
         "hoverinfo": "text",
         "lat": [
          47.411631,
          48.379433
         ],
         "line": {
          "color": "red",
          "width": 0.9000000000000004
         },
         "lon": [
          28.369884999999996,
          31.16558
         ],
         "mode": "lines",
         "text": "Moldova to Ukraine: 8.4",
         "type": "scattergeo"
        },
        {
         "hoverinfo": "text",
         "lat": [
          42.708678000000006,
          41.153332
         ],
         "line": {
          "color": "red",
          "width": 1
         },
         "lon": [
          19.37439,
          20.168331
         ],
         "mode": "lines",
         "text": "Montenegro to Albania: 8.5",
         "type": "scattergeo"
        },
        {
         "hoverinfo": "text",
         "lat": [
          42.708678000000006,
          43.915886
         ],
         "line": {
          "color": "red",
          "width": 1.3000000000000007
         },
         "lon": [
          19.37439,
          17.679076000000002
         ],
         "mode": "lines",
         "text": "Montenegro to Bosnia and Herzegovina: 8.8",
         "type": "scattergeo"
        },
        {
         "hoverinfo": "text",
         "lat": [
          42.708678000000006,
          41.608635
         ],
         "line": {
          "color": "red",
          "width": 1.5
         },
         "lon": [
          19.37439,
          21.745275
         ],
         "mode": "lines",
         "text": "Montenegro to Macedonia: 9.0",
         "type": "scattergeo"
        },
        {
         "hoverinfo": "text",
         "lat": [
          42.708678000000006,
          44.016521000000004
         ],
         "line": {
          "color": "red",
          "width": 3.3000000000000007
         },
         "lon": [
          19.37439,
          21.005859
         ],
         "mode": "lines",
         "text": "Montenegro to Serbia: 10.8",
         "type": "scattergeo"
        },
        {
         "hoverinfo": "text",
         "lat": [
          31.791702,
          51.165690999999995
         ],
         "line": {
          "color": "red",
          "width": 2.5
         },
         "lon": [
          -7.09262,
          10.451526
         ],
         "mode": "lines",
         "text": "Morocco to Germany: 10.0",
         "type": "scattergeo"
        },
        {
         "hoverinfo": "text",
         "lat": [
          31.791702,
          38.963745
         ],
         "line": {
          "color": "red",
          "width": 4.5
         },
         "lon": [
          -7.09262,
          35.243322
         ],
         "mode": "lines",
         "text": "Morocco to Turkey: 12.0",
         "type": "scattergeo"
        },
        {
         "hoverinfo": "text",
         "lat": [
          31.791702,
          55.378051
         ],
         "line": {
          "color": "red",
          "width": 0.5
         },
         "lon": [
          -7.09262,
          -3.435973
         ],
         "mode": "lines",
         "text": "Morocco to United Kingdom: 8.0",
         "type": "scattergeo"
        },
        {
         "hoverinfo": "text",
         "lat": [
          51.919438,
          48.379433
         ],
         "line": {
          "color": "red",
          "width": 1
         },
         "lon": [
          19.145135999999997,
          31.16558
         ],
         "mode": "lines",
         "text": "Poland to Ukraine: 8.5",
         "type": "scattergeo"
        },
        {
         "hoverinfo": "text",
         "lat": [
          39.399871999999995,
          41.87194
         ],
         "line": {
          "color": "red",
          "width": 0.40000000000000036
         },
         "lon": [
          -8.224454,
          12.56738
         ],
         "mode": "lines",
         "text": "Portugal to Italy: 7.9",
         "type": "scattergeo"
        },
        {
         "hoverinfo": "text",
         "lat": [
          45.943160999999996,
          47.411631
         ],
         "line": {
          "color": "red",
          "width": 4.300000000000001
         },
         "lon": [
          24.96676,
          28.369884999999996
         ],
         "mode": "lines",
         "text": "Romania to Moldova: 11.8",
         "type": "scattergeo"
        },
        {
         "hoverinfo": "text",
         "lat": [
          61.52401,
          40.069099
         ],
         "line": {
          "color": "red",
          "width": 1.3000000000000007
         },
         "lon": [
          105.31875600000001,
          45.038189
         ],
         "mode": "lines",
         "text": "Russia to Armenia: 8.8",
         "type": "scattergeo"
        },
        {
         "hoverinfo": "text",
         "lat": [
          61.52401,
          40.143105
         ],
         "line": {
          "color": "red",
          "width": 1.5999999999999996
         },
         "lon": [
          105.31875600000001,
          47.576927000000005
         ],
         "mode": "lines",
         "text": "Russia to Azerbaijan: 9.1",
         "type": "scattergeo"
        },
        {
         "hoverinfo": "text",
         "lat": [
          44.016521000000004,
          43.915886
         ],
         "line": {
          "color": "red",
          "width": 2.6999999999999993
         },
         "lon": [
          21.005859,
          17.679076000000002
         ],
         "mode": "lines",
         "text": "Serbia to Bosnia and Herzegovina: 10.2",
         "type": "scattergeo"
        },
        {
         "hoverinfo": "text",
         "lat": [
          44.016521000000004,
          41.608635
         ],
         "line": {
          "color": "red",
          "width": 3.5
         },
         "lon": [
          21.005859,
          21.745275
         ],
         "mode": "lines",
         "text": "Serbia to Macedonia: 11.0",
         "type": "scattergeo"
        },
        {
         "hoverinfo": "text",
         "lat": [
          44.016521000000004,
          42.708678000000006
         ],
         "line": {
          "color": "red",
          "width": 4.5
         },
         "lon": [
          21.005859,
          19.37439
         ],
         "mode": "lines",
         "text": "Serbia to Montenegro: 12.0",
         "type": "scattergeo"
        },
        {
         "hoverinfo": "text",
         "lat": [
          46.151241,
          42.733883
         ],
         "line": {
          "color": "red",
          "width": 1
         },
         "lon": [
          14.995463,
          25.48583
         ],
         "mode": "lines",
         "text": "Slovenia to Bulgaria: 8.5",
         "type": "scattergeo"
        },
        {
         "hoverinfo": "text",
         "lat": [
          46.151241,
          42.708678000000006
         ],
         "line": {
          "color": "red",
          "width": 1
         },
         "lon": [
          14.995463,
          19.37439
         ],
         "mode": "lines",
         "text": "Slovenia to Montenegro: 8.5",
         "type": "scattergeo"
        },
        {
         "hoverinfo": "text",
         "lat": [
          46.151241,
          44.016521000000004
         ],
         "line": {
          "color": "red",
          "width": 1.8000000000000007
         },
         "lon": [
          14.995463,
          21.005859
         ],
         "mode": "lines",
         "text": "Slovenia to Serbia: 9.3",
         "type": "scattergeo"
        },
        {
         "hoverinfo": "text",
         "lat": [
          46.818188,
          44.016521000000004
         ],
         "line": {
          "color": "red",
          "width": 0.40000000000000036
         },
         "lon": [
          8.227511999999999,
          21.005859
         ],
         "mode": "lines",
         "text": "Switzerland to Serbia: 7.9",
         "type": "scattergeo"
        },
        {
         "hoverinfo": "text",
         "lat": [
          38.963745,
          40.069099
         ],
         "line": {
          "color": "red",
          "width": 1.3000000000000007
         },
         "lon": [
          35.243322,
          45.038189
         ],
         "mode": "lines",
         "text": "Turkey to Armenia: 8.8",
         "type": "scattergeo"
        },
        {
         "hoverinfo": "text",
         "lat": [
          38.963745,
          40.143105
         ],
         "line": {
          "color": "red",
          "width": 4.5
         },
         "lon": [
          35.243322,
          47.576927000000005
         ],
         "mode": "lines",
         "text": "Turkey to Azerbaijan: 12.0",
         "type": "scattergeo"
        },
        {
         "hoverinfo": "text",
         "lat": [
          38.963745,
          43.915886
         ],
         "line": {
          "color": "red",
          "width": 0.09999999999999964
         },
         "lon": [
          35.243322,
          17.679076000000002
         ],
         "mode": "lines",
         "text": "Turkey to Bosnia and Herzegovina: 7.6",
         "type": "scattergeo"
        },
        {
         "hoverinfo": "text",
         "lat": [
          48.379433,
          40.143105
         ],
         "line": {
          "color": "red",
          "width": 1.5
         },
         "lon": [
          31.16558,
          47.576927000000005
         ],
         "mode": "lines",
         "text": "Ukraine to Azerbaijan: 9.0",
         "type": "scattergeo"
        },
        {
         "hoverinfo": "text",
         "lat": [
          48.379433,
          53.709807
         ],
         "line": {
          "color": "red",
          "width": 0
         },
         "lon": [
          31.16558,
          27.953389
         ],
         "mode": "lines",
         "text": "Ukraine to Belarus: 7.5",
         "type": "scattergeo"
        },
        {
         "hoverinfo": "text",
         "lat": [
          48.379433,
          42.315407
         ],
         "line": {
          "color": "red",
          "width": 0
         },
         "lon": [
          31.16558,
          43.356891999999995
         ],
         "mode": "lines",
         "text": "Ukraine to Georgia: 7.5",
         "type": "scattergeo"
        },
        {
         "hoverinfo": "text",
         "lat": [
          48.379433,
          61.52401
         ],
         "line": {
          "color": "red",
          "width": 0.5
         },
         "lon": [
          31.16558,
          105.31875600000001
         ],
         "mode": "lines",
         "text": "Ukraine to Russia: 8.0",
         "type": "scattergeo"
        }
       ],
       "layout": {
        "geo": {
         "projection": {
          "type": "equirectangular"
         },
         "showcoastlines": false,
         "showframe": false
        },
        "showlegend": false,
        "template": {
         "data": {
          "bar": [
           {
            "error_x": {
             "color": "#2a3f5f"
            },
            "error_y": {
             "color": "#2a3f5f"
            },
            "marker": {
             "line": {
              "color": "#E5ECF6",
              "width": 0.5
             }
            },
            "type": "bar"
           }
          ],
          "barpolar": [
           {
            "marker": {
             "line": {
              "color": "#E5ECF6",
              "width": 0.5
             }
            },
            "type": "barpolar"
           }
          ],
          "carpet": [
           {
            "aaxis": {
             "endlinecolor": "#2a3f5f",
             "gridcolor": "white",
             "linecolor": "white",
             "minorgridcolor": "white",
             "startlinecolor": "#2a3f5f"
            },
            "baxis": {
             "endlinecolor": "#2a3f5f",
             "gridcolor": "white",
             "linecolor": "white",
             "minorgridcolor": "white",
             "startlinecolor": "#2a3f5f"
            },
            "type": "carpet"
           }
          ],
          "choropleth": [
           {
            "colorbar": {
             "outlinewidth": 0,
             "ticks": ""
            },
            "type": "choropleth"
           }
          ],
          "contour": [
           {
            "colorbar": {
             "outlinewidth": 0,
             "ticks": ""
            },
            "colorscale": [
             [
              0,
              "#0d0887"
             ],
             [
              0.1111111111111111,
              "#46039f"
             ],
             [
              0.2222222222222222,
              "#7201a8"
             ],
             [
              0.3333333333333333,
              "#9c179e"
             ],
             [
              0.4444444444444444,
              "#bd3786"
             ],
             [
              0.5555555555555556,
              "#d8576b"
             ],
             [
              0.6666666666666666,
              "#ed7953"
             ],
             [
              0.7777777777777778,
              "#fb9f3a"
             ],
             [
              0.8888888888888888,
              "#fdca26"
             ],
             [
              1,
              "#f0f921"
             ]
            ],
            "type": "contour"
           }
          ],
          "contourcarpet": [
           {
            "colorbar": {
             "outlinewidth": 0,
             "ticks": ""
            },
            "type": "contourcarpet"
           }
          ],
          "heatmap": [
           {
            "colorbar": {
             "outlinewidth": 0,
             "ticks": ""
            },
            "colorscale": [
             [
              0,
              "#0d0887"
             ],
             [
              0.1111111111111111,
              "#46039f"
             ],
             [
              0.2222222222222222,
              "#7201a8"
             ],
             [
              0.3333333333333333,
              "#9c179e"
             ],
             [
              0.4444444444444444,
              "#bd3786"
             ],
             [
              0.5555555555555556,
              "#d8576b"
             ],
             [
              0.6666666666666666,
              "#ed7953"
             ],
             [
              0.7777777777777778,
              "#fb9f3a"
             ],
             [
              0.8888888888888888,
              "#fdca26"
             ],
             [
              1,
              "#f0f921"
             ]
            ],
            "type": "heatmap"
           }
          ],
          "heatmapgl": [
           {
            "colorbar": {
             "outlinewidth": 0,
             "ticks": ""
            },
            "colorscale": [
             [
              0,
              "#0d0887"
             ],
             [
              0.1111111111111111,
              "#46039f"
             ],
             [
              0.2222222222222222,
              "#7201a8"
             ],
             [
              0.3333333333333333,
              "#9c179e"
             ],
             [
              0.4444444444444444,
              "#bd3786"
             ],
             [
              0.5555555555555556,
              "#d8576b"
             ],
             [
              0.6666666666666666,
              "#ed7953"
             ],
             [
              0.7777777777777778,
              "#fb9f3a"
             ],
             [
              0.8888888888888888,
              "#fdca26"
             ],
             [
              1,
              "#f0f921"
             ]
            ],
            "type": "heatmapgl"
           }
          ],
          "histogram": [
           {
            "marker": {
             "colorbar": {
              "outlinewidth": 0,
              "ticks": ""
             }
            },
            "type": "histogram"
           }
          ],
          "histogram2d": [
           {
            "colorbar": {
             "outlinewidth": 0,
             "ticks": ""
            },
            "colorscale": [
             [
              0,
              "#0d0887"
             ],
             [
              0.1111111111111111,
              "#46039f"
             ],
             [
              0.2222222222222222,
              "#7201a8"
             ],
             [
              0.3333333333333333,
              "#9c179e"
             ],
             [
              0.4444444444444444,
              "#bd3786"
             ],
             [
              0.5555555555555556,
              "#d8576b"
             ],
             [
              0.6666666666666666,
              "#ed7953"
             ],
             [
              0.7777777777777778,
              "#fb9f3a"
             ],
             [
              0.8888888888888888,
              "#fdca26"
             ],
             [
              1,
              "#f0f921"
             ]
            ],
            "type": "histogram2d"
           }
          ],
          "histogram2dcontour": [
           {
            "colorbar": {
             "outlinewidth": 0,
             "ticks": ""
            },
            "colorscale": [
             [
              0,
              "#0d0887"
             ],
             [
              0.1111111111111111,
              "#46039f"
             ],
             [
              0.2222222222222222,
              "#7201a8"
             ],
             [
              0.3333333333333333,
              "#9c179e"
             ],
             [
              0.4444444444444444,
              "#bd3786"
             ],
             [
              0.5555555555555556,
              "#d8576b"
             ],
             [
              0.6666666666666666,
              "#ed7953"
             ],
             [
              0.7777777777777778,
              "#fb9f3a"
             ],
             [
              0.8888888888888888,
              "#fdca26"
             ],
             [
              1,
              "#f0f921"
             ]
            ],
            "type": "histogram2dcontour"
           }
          ],
          "mesh3d": [
           {
            "colorbar": {
             "outlinewidth": 0,
             "ticks": ""
            },
            "type": "mesh3d"
           }
          ],
          "parcoords": [
           {
            "line": {
             "colorbar": {
              "outlinewidth": 0,
              "ticks": ""
             }
            },
            "type": "parcoords"
           }
          ],
          "pie": [
           {
            "automargin": true,
            "type": "pie"
           }
          ],
          "scatter": [
           {
            "marker": {
             "colorbar": {
              "outlinewidth": 0,
              "ticks": ""
             }
            },
            "type": "scatter"
           }
          ],
          "scatter3d": [
           {
            "line": {
             "colorbar": {
              "outlinewidth": 0,
              "ticks": ""
             }
            },
            "marker": {
             "colorbar": {
              "outlinewidth": 0,
              "ticks": ""
             }
            },
            "type": "scatter3d"
           }
          ],
          "scattercarpet": [
           {
            "marker": {
             "colorbar": {
              "outlinewidth": 0,
              "ticks": ""
             }
            },
            "type": "scattercarpet"
           }
          ],
          "scattergeo": [
           {
            "marker": {
             "colorbar": {
              "outlinewidth": 0,
              "ticks": ""
             }
            },
            "type": "scattergeo"
           }
          ],
          "scattergl": [
           {
            "marker": {
             "colorbar": {
              "outlinewidth": 0,
              "ticks": ""
             }
            },
            "type": "scattergl"
           }
          ],
          "scattermapbox": [
           {
            "marker": {
             "colorbar": {
              "outlinewidth": 0,
              "ticks": ""
             }
            },
            "type": "scattermapbox"
           }
          ],
          "scatterpolar": [
           {
            "marker": {
             "colorbar": {
              "outlinewidth": 0,
              "ticks": ""
             }
            },
            "type": "scatterpolar"
           }
          ],
          "scatterpolargl": [
           {
            "marker": {
             "colorbar": {
              "outlinewidth": 0,
              "ticks": ""
             }
            },
            "type": "scatterpolargl"
           }
          ],
          "scatterternary": [
           {
            "marker": {
             "colorbar": {
              "outlinewidth": 0,
              "ticks": ""
             }
            },
            "type": "scatterternary"
           }
          ],
          "surface": [
           {
            "colorbar": {
             "outlinewidth": 0,
             "ticks": ""
            },
            "colorscale": [
             [
              0,
              "#0d0887"
             ],
             [
              0.1111111111111111,
              "#46039f"
             ],
             [
              0.2222222222222222,
              "#7201a8"
             ],
             [
              0.3333333333333333,
              "#9c179e"
             ],
             [
              0.4444444444444444,
              "#bd3786"
             ],
             [
              0.5555555555555556,
              "#d8576b"
             ],
             [
              0.6666666666666666,
              "#ed7953"
             ],
             [
              0.7777777777777778,
              "#fb9f3a"
             ],
             [
              0.8888888888888888,
              "#fdca26"
             ],
             [
              1,
              "#f0f921"
             ]
            ],
            "type": "surface"
           }
          ],
          "table": [
           {
            "cells": {
             "fill": {
              "color": "#EBF0F8"
             },
             "line": {
              "color": "white"
             }
            },
            "header": {
             "fill": {
              "color": "#C8D4E3"
             },
             "line": {
              "color": "white"
             }
            },
            "type": "table"
           }
          ]
         },
         "layout": {
          "annotationdefaults": {
           "arrowcolor": "#2a3f5f",
           "arrowhead": 0,
           "arrowwidth": 1
          },
          "coloraxis": {
           "colorbar": {
            "outlinewidth": 0,
            "ticks": ""
           }
          },
          "colorscale": {
           "diverging": [
            [
             0,
             "#8e0152"
            ],
            [
             0.1,
             "#c51b7d"
            ],
            [
             0.2,
             "#de77ae"
            ],
            [
             0.3,
             "#f1b6da"
            ],
            [
             0.4,
             "#fde0ef"
            ],
            [
             0.5,
             "#f7f7f7"
            ],
            [
             0.6,
             "#e6f5d0"
            ],
            [
             0.7,
             "#b8e186"
            ],
            [
             0.8,
             "#7fbc41"
            ],
            [
             0.9,
             "#4d9221"
            ],
            [
             1,
             "#276419"
            ]
           ],
           "sequential": [
            [
             0,
             "#0d0887"
            ],
            [
             0.1111111111111111,
             "#46039f"
            ],
            [
             0.2222222222222222,
             "#7201a8"
            ],
            [
             0.3333333333333333,
             "#9c179e"
            ],
            [
             0.4444444444444444,
             "#bd3786"
            ],
            [
             0.5555555555555556,
             "#d8576b"
            ],
            [
             0.6666666666666666,
             "#ed7953"
            ],
            [
             0.7777777777777778,
             "#fb9f3a"
            ],
            [
             0.8888888888888888,
             "#fdca26"
            ],
            [
             1,
             "#f0f921"
            ]
           ],
           "sequentialminus": [
            [
             0,
             "#0d0887"
            ],
            [
             0.1111111111111111,
             "#46039f"
            ],
            [
             0.2222222222222222,
             "#7201a8"
            ],
            [
             0.3333333333333333,
             "#9c179e"
            ],
            [
             0.4444444444444444,
             "#bd3786"
            ],
            [
             0.5555555555555556,
             "#d8576b"
            ],
            [
             0.6666666666666666,
             "#ed7953"
            ],
            [
             0.7777777777777778,
             "#fb9f3a"
            ],
            [
             0.8888888888888888,
             "#fdca26"
            ],
            [
             1,
             "#f0f921"
            ]
           ]
          },
          "colorway": [
           "#636efa",
           "#EF553B",
           "#00cc96",
           "#ab63fa",
           "#FFA15A",
           "#19d3f3",
           "#FF6692",
           "#B6E880",
           "#FF97FF",
           "#FECB52"
          ],
          "font": {
           "color": "#2a3f5f"
          },
          "geo": {
           "bgcolor": "white",
           "lakecolor": "white",
           "landcolor": "#E5ECF6",
           "showlakes": true,
           "showland": true,
           "subunitcolor": "white"
          },
          "hoverlabel": {
           "align": "left"
          },
          "hovermode": "closest",
          "mapbox": {
           "style": "light"
          },
          "paper_bgcolor": "white",
          "plot_bgcolor": "#E5ECF6",
          "polar": {
           "angularaxis": {
            "gridcolor": "white",
            "linecolor": "white",
            "ticks": ""
           },
           "bgcolor": "#E5ECF6",
           "radialaxis": {
            "gridcolor": "white",
            "linecolor": "white",
            "ticks": ""
           }
          },
          "scene": {
           "xaxis": {
            "backgroundcolor": "#E5ECF6",
            "gridcolor": "white",
            "gridwidth": 2,
            "linecolor": "white",
            "showbackground": true,
            "ticks": "",
            "zerolinecolor": "white"
           },
           "yaxis": {
            "backgroundcolor": "#E5ECF6",
            "gridcolor": "white",
            "gridwidth": 2,
            "linecolor": "white",
            "showbackground": true,
            "ticks": "",
            "zerolinecolor": "white"
           },
           "zaxis": {
            "backgroundcolor": "#E5ECF6",
            "gridcolor": "white",
            "gridwidth": 2,
            "linecolor": "white",
            "showbackground": true,
            "ticks": "",
            "zerolinecolor": "white"
           }
          },
          "shapedefaults": {
           "line": {
            "color": "#2a3f5f"
           }
          },
          "ternary": {
           "aaxis": {
            "gridcolor": "white",
            "linecolor": "white",
            "ticks": ""
           },
           "baxis": {
            "gridcolor": "white",
            "linecolor": "white",
            "ticks": ""
           },
           "bgcolor": "#E5ECF6",
           "caxis": {
            "gridcolor": "white",
            "linecolor": "white",
            "ticks": ""
           }
          },
          "title": {
           "x": 0.05
          },
          "xaxis": {
           "automargin": true,
           "gridcolor": "white",
           "linecolor": "white",
           "ticks": "",
           "title": {
            "standoff": 15
           },
           "zerolinecolor": "white",
           "zerolinewidth": 2
          },
          "yaxis": {
           "automargin": true,
           "gridcolor": "white",
           "linecolor": "white",
           "ticks": "",
           "title": {
            "standoff": 15
           },
           "zerolinecolor": "white",
           "zerolinewidth": 2
          }
         }
        },
        "title": {
         "text": "Votes between countries"
        }
       }
      },
      "text/html": [
       "<div>\n",
       "        \n",
       "        \n",
       "            <div id=\"d37ae839-5f99-4507-9513-cf464a33be22\" class=\"plotly-graph-div\" style=\"height:525px; width:100%;\"></div>\n",
       "            <script type=\"text/javascript\">\n",
       "                require([\"plotly\"], function(Plotly) {\n",
       "                    window.PLOTLYENV=window.PLOTLYENV || {};\n",
       "                    \n",
       "                if (document.getElementById(\"d37ae839-5f99-4507-9513-cf464a33be22\")) {\n",
       "                    Plotly.newPlot(\n",
       "                        'd37ae839-5f99-4507-9513-cf464a33be22',\n",
       "                        [{\"autocolorscale\": false, \"colorscale\": [[0.0, \"rgb(247,251,255)\"], [0.125, \"rgb(222,235,247)\"], [0.25, \"rgb(198,219,239)\"], [0.375, \"rgb(158,202,225)\"], [0.5, \"rgb(107,174,214)\"], [0.625, \"rgb(66,146,198)\"], [0.75, \"rgb(33,113,181)\"], [0.875, \"rgb(8,81,156)\"], [1.0, \"rgb(8,48,107)\"]], \"locations\": [\"ALB\", \"ARM\", \"AUT\", \"AZE\", \"BLR\", \"BEL\", \"BIH\", \"BGR\", \"HRV\", \"CYP\", \"CZE\", \"DNK\", \"EST\", \"FIN\", \"FRA\", \"GEO\", \"DEU\", \"GRC\", \"HUN\", \"ISL\", \"IRL\", \"ISR\", \"ITA\", \"LVA\", \"LTU\", \"LUX\", \"MKD\", \"MLT\", \"MDA\", \"MCO\", \"MNE\", \"MAR\", \"NLD\", \"NOR\", \"POL\", \"PRT\", \"ROU\", \"RUS\", \"SMR\", \"SRB\", \"SVK\", \"SVN\", \"ESP\", \"SWE\", \"CHE\", \"TUR\", \"UKR\", \"GBR\"], \"marker\": {\"line\": {\"color\": \"darkgray\", \"width\": 0.5}}, \"text\": [\"Albania\", \"Armenia\", \"Austria\", \"Azerbaijan\", \"Belarus\", \"Belgium\", \"Bosnia and Herzegovina\", \"Bulgaria\", \"Croatia\", \"Cyprus\", \"Czech Republic\", \"Denmark\", \"Estonia\", \"Finland\", \"France\", \"Georgia\", \"Germany\", \"Greece\", \"Hungary\", \"Iceland\", \"Ireland\", \"Israel\", \"Italy\", \"Latvia\", \"Lithuania\", \"Luxembourg\", \"Macedonia\", \"Malta\", \"Moldova\", \"Monaco\", \"Montenegro\", \"Morocco\", \"Netherlands\", \"Norway\", \"Poland\", \"Portugal\", \"Romania\", \"Russia\", \"San Marino\", \"Serbia\", \"Slovakia\", \"Slovenia\", \"Spain\", \"Sweden\", \"Switzerland\", \"Turkey\", \"Ukraine\", \"United Kingdom\"], \"type\": \"choropleth\", \"z\": [1.8, 3.0, 1.9, 3.3, 1.6, 2.4, 2.1, 3.4, 2.0, 1.9, 1.0, 2.8, 2.7, 1.5, 2.4, 2.1, 2.4, 2.8, 1.8, 1.9, 3.4, 2.9, 3.5, 2.9, 1.2, 2.4, 1.3, 2.7, 1.9, 3.5, 1.1, 0.4, 2.7, 2.6, 1.3, 1.4, 2.0, 3.8, 0.4, 3.1, 0.6, 1.4, 2.0, 3.6, 2.6, 2.3, 3.7, 2.8]}, {\"hoverinfo\": \"text\", \"lat\": [41.153332, 39.074208], \"line\": {\"color\": \"red\", \"width\": 2.4000000000000004}, \"lon\": [20.168331, 21.824312], \"mode\": \"lines\", \"text\": \"Albania to Greece: 9.9\", \"type\": \"scattergeo\"}, {\"hoverinfo\": \"text\", \"lat\": [41.153332, 41.87194], \"line\": {\"color\": \"red\", \"width\": 2.6999999999999993}, \"lon\": [20.168331, 12.56738], \"mode\": \"lines\", \"text\": \"Albania to Italy: 10.2\", \"type\": \"scattergeo\"}, {\"hoverinfo\": \"text\", \"lat\": [41.153332, 38.963745], \"line\": {\"color\": \"red\", \"width\": 1.4000000000000004}, \"lon\": [20.168331, 35.243322], \"mode\": \"lines\", \"text\": \"Albania to Turkey: 8.9\", \"type\": \"scattergeo\"}, {\"hoverinfo\": \"text\", \"lat\": [42.546245, 39.399871999999995], \"line\": {\"color\": \"red\", \"width\": 0.5}, \"lon\": [1.6015540000000001, -8.224454], \"mode\": \"lines\", \"text\": \"Andorra to Portugal: 8.0\", \"type\": \"scattergeo\"}, {\"hoverinfo\": \"text\", \"lat\": [42.546245, 40.463667], \"line\": {\"color\": \"red\", \"width\": 2.5}, \"lon\": [1.6015540000000001, -3.7492199999999998], \"mode\": \"lines\", \"text\": \"Andorra to Spain: 10.0\", \"type\": \"scattergeo\"}, {\"hoverinfo\": \"text\", \"lat\": [40.069099, 42.315407], \"line\": {\"color\": \"red\", \"width\": 2.0999999999999996}, \"lon\": [45.038189, 43.356891999999995], \"mode\": \"lines\", \"text\": \"Armenia to Georgia: 9.6\", \"type\": \"scattergeo\"}, {\"hoverinfo\": \"text\", \"lat\": [40.069099, 42.708678000000006], \"line\": {\"color\": \"red\", \"width\": 2.5}, \"lon\": [45.038189, 19.37439], \"mode\": \"lines\", \"text\": \"Armenia to Montenegro: 10.0\", \"type\": \"scattergeo\"}, {\"hoverinfo\": \"text\", \"lat\": [40.069099, 61.52401], \"line\": {\"color\": \"red\", \"width\": 2.1999999999999993}, \"lon\": [45.038189, 105.31875600000001], \"mode\": \"lines\", \"text\": \"Armenia to Russia: 9.7\", \"type\": \"scattergeo\"}, {\"hoverinfo\": \"text\", \"lat\": [40.143105, 42.733883], \"line\": {\"color\": \"red\", \"width\": 0.5}, \"lon\": [47.576927000000005, 25.48583], \"mode\": \"lines\", \"text\": \"Azerbaijan to Bulgaria: 8.0\", \"type\": \"scattergeo\"}, {\"hoverinfo\": \"text\", \"lat\": [40.143105, 38.963745], \"line\": {\"color\": \"red\", \"width\": 4.5}, \"lon\": [47.576927000000005, 35.243322], \"mode\": \"lines\", \"text\": \"Azerbaijan to Turkey: 12.0\", \"type\": \"scattergeo\"}, {\"hoverinfo\": \"text\", \"lat\": [40.143105, 48.379433], \"line\": {\"color\": \"red\", \"width\": 2.0999999999999996}, \"lon\": [47.576927000000005, 31.16558], \"mode\": \"lines\", \"text\": \"Azerbaijan to Ukraine: 9.6\", \"type\": \"scattergeo\"}, {\"hoverinfo\": \"text\", \"lat\": [53.709807, 61.52401], \"line\": {\"color\": \"red\", \"width\": 3.3000000000000007}, \"lon\": [27.953389, 105.31875600000001], \"mode\": \"lines\", \"text\": \"Belarus to Russia: 10.8\", \"type\": \"scattergeo\"}, {\"hoverinfo\": \"text\", \"lat\": [53.709807, 48.379433], \"line\": {\"color\": \"red\", \"width\": 1.0999999999999996}, \"lon\": [27.953389, 31.16558], \"mode\": \"lines\", \"text\": \"Belarus to Ukraine: 8.6\", \"type\": \"scattergeo\"}, {\"hoverinfo\": \"text\", \"lat\": [43.915886, 45.1], \"line\": {\"color\": \"red\", \"width\": 0.8000000000000007}, \"lon\": [17.679076000000002, 15.2], \"mode\": \"lines\", \"text\": \"Bosnia and Herzegovina to Croatia: 8.3\", \"type\": \"scattergeo\"}, {\"hoverinfo\": \"text\", \"lat\": [43.915886, 44.016521000000004], \"line\": {\"color\": \"red\", \"width\": 3.1999999999999993}, \"lon\": [17.679076000000002, 21.005859], \"mode\": \"lines\", \"text\": \"Bosnia and Herzegovina to Serbia: 10.7\", \"type\": \"scattergeo\"}, {\"hoverinfo\": \"text\", \"lat\": [42.733883, 40.069099], \"line\": {\"color\": \"red\", \"width\": 0.8000000000000007}, \"lon\": [25.48583, 45.038189], \"mode\": \"lines\", \"text\": \"Bulgaria to Armenia: 8.3\", \"type\": \"scattergeo\"}, {\"hoverinfo\": \"text\", \"lat\": [42.733883, 39.074208], \"line\": {\"color\": \"red\", \"width\": 1.5}, \"lon\": [25.48583, 21.824312], \"mode\": \"lines\", \"text\": \"Bulgaria to Greece: 9.0\", \"type\": \"scattergeo\"}, {\"hoverinfo\": \"text\", \"lat\": [45.1, 43.915886], \"line\": {\"color\": \"red\", \"width\": 0.5}, \"lon\": [15.2, 17.679076000000002], \"mode\": \"lines\", \"text\": \"Croatia to Bosnia and Herzegovina: 8.0\", \"type\": \"scattergeo\"}, {\"hoverinfo\": \"text\", \"lat\": [45.1, 49.817492], \"line\": {\"color\": \"red\", \"width\": 2.5}, \"lon\": [15.2, 15.472961999999999], \"mode\": \"lines\", \"text\": \"Croatia to Czech Republic: 10.0\", \"type\": \"scattergeo\"}, {\"hoverinfo\": \"text\", \"lat\": [45.1, 44.016521000000004], \"line\": {\"color\": \"red\", \"width\": 1.1999999999999993}, \"lon\": [15.2, 21.005859], \"mode\": \"lines\", \"text\": \"Croatia to Serbia: 8.7\", \"type\": \"scattergeo\"}, {\"hoverinfo\": \"text\", \"lat\": [35.126413, 39.074208], \"line\": {\"color\": \"red\", \"width\": 3.5999999999999996}, \"lon\": [33.429859, 21.824312], \"mode\": \"lines\", \"text\": \"Cyprus to Greece: 11.1\", \"type\": \"scattergeo\"}, {\"hoverinfo\": \"text\", \"lat\": [49.817492, 40.143105], \"line\": {\"color\": \"red\", \"width\": 0.5}, \"lon\": [15.472961999999999, 47.576927000000005], \"mode\": \"lines\", \"text\": \"Czech Republic to Azerbaijan: 8.0\", \"type\": \"scattergeo\"}, {\"hoverinfo\": \"text\", \"lat\": [56.26392, 60.128161], \"line\": {\"color\": \"red\", \"width\": 0.40000000000000036}, \"lon\": [9.501785, 18.643501], \"mode\": \"lines\", \"text\": \"Denmark to Sweden: 7.9\", \"type\": \"scattergeo\"}, {\"hoverinfo\": \"text\", \"lat\": [58.595271999999994, 56.879635], \"line\": {\"color\": \"red\", \"width\": 0.9000000000000004}, \"lon\": [25.013607, 24.603189], \"mode\": \"lines\", \"text\": \"Estonia to Latvia: 8.4\", \"type\": \"scattergeo\"}, {\"hoverinfo\": \"text\", \"lat\": [58.595271999999994, 61.52401], \"line\": {\"color\": \"red\", \"width\": 0.40000000000000036}, \"lon\": [25.013607, 105.31875600000001], \"mode\": \"lines\", \"text\": \"Estonia to Russia: 7.9\", \"type\": \"scattergeo\"}, {\"hoverinfo\": \"text\", \"lat\": [61.92411, 58.595271999999994], \"line\": {\"color\": \"red\", \"width\": 1.1999999999999993}, \"lon\": [25.748151, 25.013607], \"mode\": \"lines\", \"text\": \"Finland to Estonia: 8.7\", \"type\": \"scattergeo\"}, {\"hoverinfo\": \"text\", \"lat\": [46.227638, 40.069099], \"line\": {\"color\": \"red\", \"width\": 0.09999999999999964}, \"lon\": [2.213749, 45.038189], \"mode\": \"lines\", \"text\": \"France to Armenia: 7.6\", \"type\": \"scattergeo\"}, {\"hoverinfo\": \"text\", \"lat\": [46.227638, 42.733883], \"line\": {\"color\": \"red\", \"width\": 0.0}, \"lon\": [2.213749, 25.48583], \"mode\": \"lines\", \"text\": \"France to Bulgaria: 7.5\", \"type\": \"scattergeo\"}, {\"hoverinfo\": \"text\", \"lat\": [42.315407, 40.069099], \"line\": {\"color\": \"red\", \"width\": 2.1999999999999993}, \"lon\": [43.356891999999995, 45.038189], \"mode\": \"lines\", \"text\": \"Georgia to Armenia: 9.7\", \"type\": \"scattergeo\"}, {\"hoverinfo\": \"text\", \"lat\": [42.315407, 40.143105], \"line\": {\"color\": \"red\", \"width\": 0.2999999999999998}, \"lon\": [43.356891999999995, 47.576927000000005], \"mode\": \"lines\", \"text\": \"Georgia to Azerbaijan: 7.8\", \"type\": \"scattergeo\"}, {\"hoverinfo\": \"text\", \"lat\": [42.315407, 48.379433], \"line\": {\"color\": \"red\", \"width\": 1.0999999999999996}, \"lon\": [43.356891999999995, 31.16558], \"mode\": \"lines\", \"text\": \"Georgia to Ukraine: 8.6\", \"type\": \"scattergeo\"}, {\"hoverinfo\": \"text\", \"lat\": [39.074208, 41.153332], \"line\": {\"color\": \"red\", \"width\": 1.5}, \"lon\": [21.824312, 20.168331], \"mode\": \"lines\", \"text\": \"Greece to Albania: 9.0\", \"type\": \"scattergeo\"}, {\"hoverinfo\": \"text\", \"lat\": [39.074208, 35.126413], \"line\": {\"color\": \"red\", \"width\": 2.5999999999999996}, \"lon\": [21.824312, 33.429859], \"mode\": \"lines\", \"text\": \"Greece to Cyprus: 10.1\", \"type\": \"scattergeo\"}, {\"hoverinfo\": \"text\", \"lat\": [64.96305100000001, 56.26392], \"line\": {\"color\": \"red\", \"width\": 0.5999999999999996}, \"lon\": [-19.020835, 9.501785], \"mode\": \"lines\", \"text\": \"Iceland to Denmark: 8.1\", \"type\": \"scattergeo\"}, {\"hoverinfo\": \"text\", \"lat\": [56.879635, 58.595271999999994], \"line\": {\"color\": \"red\", \"width\": 0.5}, \"lon\": [24.603189, 25.013607], \"mode\": \"lines\", \"text\": \"Latvia to Estonia: 8.0\", \"type\": \"scattergeo\"}, {\"hoverinfo\": \"text\", \"lat\": [56.879635, 61.52401], \"line\": {\"color\": \"red\", \"width\": 0.5}, \"lon\": [24.603189, 105.31875600000001], \"mode\": \"lines\", \"text\": \"Latvia to Russia: 8.0\", \"type\": \"scattergeo\"}, {\"hoverinfo\": \"text\", \"lat\": [55.169438, 42.315407], \"line\": {\"color\": \"red\", \"width\": 1.8000000000000007}, \"lon\": [23.881275, 43.356891999999995], \"mode\": \"lines\", \"text\": \"Lithuania to Georgia: 9.3\", \"type\": \"scattergeo\"}, {\"hoverinfo\": \"text\", \"lat\": [55.169438, 56.879635], \"line\": {\"color\": \"red\", \"width\": 2.4000000000000004}, \"lon\": [23.881275, 24.603189], \"mode\": \"lines\", \"text\": \"Lithuania to Latvia: 9.9\", \"type\": \"scattergeo\"}, {\"hoverinfo\": \"text\", \"lat\": [41.608635, 41.153332], \"line\": {\"color\": \"red\", \"width\": 3.8000000000000007}, \"lon\": [21.745275, 20.168331], \"mode\": \"lines\", \"text\": \"Macedonia to Albania: 11.3\", \"type\": \"scattergeo\"}, {\"hoverinfo\": \"text\", \"lat\": [41.608635, 42.733883], \"line\": {\"color\": \"red\", \"width\": 1.5}, \"lon\": [21.745275, 25.48583], \"mode\": \"lines\", \"text\": \"Macedonia to Bulgaria: 9.0\", \"type\": \"scattergeo\"}, {\"hoverinfo\": \"text\", \"lat\": [41.608635, 42.708678000000006], \"line\": {\"color\": \"red\", \"width\": 0.5}, \"lon\": [21.745275, 19.37439], \"mode\": \"lines\", \"text\": \"Macedonia to Montenegro: 8.0\", \"type\": \"scattergeo\"}, {\"hoverinfo\": \"text\", \"lat\": [41.608635, 44.016521000000004], \"line\": {\"color\": \"red\", \"width\": 1.5999999999999996}, \"lon\": [21.745275, 21.005859], \"mode\": \"lines\", \"text\": \"Macedonia to Serbia: 9.1\", \"type\": \"scattergeo\"}, {\"hoverinfo\": \"text\", \"lat\": [35.937496, 42.733883], \"line\": {\"color\": \"red\", \"width\": 1.0}, \"lon\": [14.375416, 25.48583], \"mode\": \"lines\", \"text\": \"Malta to Bulgaria: 8.5\", \"type\": \"scattergeo\"}, {\"hoverinfo\": \"text\", \"lat\": [35.937496, 41.87194], \"line\": {\"color\": \"red\", \"width\": 0.09999999999999964}, \"lon\": [14.375416, 12.56738], \"mode\": \"lines\", \"text\": \"Malta to Italy: 7.6\", \"type\": \"scattergeo\"}, {\"hoverinfo\": \"text\", \"lat\": [47.411631, 45.943160999999996], \"line\": {\"color\": \"red\", \"width\": 3.9000000000000004}, \"lon\": [28.369884999999996, 24.96676], \"mode\": \"lines\", \"text\": \"Moldova to Romania: 11.4\", \"type\": \"scattergeo\"}, {\"hoverinfo\": \"text\", \"lat\": [47.411631, 61.52401], \"line\": {\"color\": \"red\", \"width\": 0.5999999999999996}, \"lon\": [28.369884999999996, 105.31875600000001], \"mode\": \"lines\", \"text\": \"Moldova to Russia: 8.1\", \"type\": \"scattergeo\"}, {\"hoverinfo\": \"text\", \"lat\": [47.411631, 48.379433], \"line\": {\"color\": \"red\", \"width\": 0.9000000000000004}, \"lon\": [28.369884999999996, 31.16558], \"mode\": \"lines\", \"text\": \"Moldova to Ukraine: 8.4\", \"type\": \"scattergeo\"}, {\"hoverinfo\": \"text\", \"lat\": [42.708678000000006, 41.153332], \"line\": {\"color\": \"red\", \"width\": 1.0}, \"lon\": [19.37439, 20.168331], \"mode\": \"lines\", \"text\": \"Montenegro to Albania: 8.5\", \"type\": \"scattergeo\"}, {\"hoverinfo\": \"text\", \"lat\": [42.708678000000006, 43.915886], \"line\": {\"color\": \"red\", \"width\": 1.3000000000000007}, \"lon\": [19.37439, 17.679076000000002], \"mode\": \"lines\", \"text\": \"Montenegro to Bosnia and Herzegovina: 8.8\", \"type\": \"scattergeo\"}, {\"hoverinfo\": \"text\", \"lat\": [42.708678000000006, 41.608635], \"line\": {\"color\": \"red\", \"width\": 1.5}, \"lon\": [19.37439, 21.745275], \"mode\": \"lines\", \"text\": \"Montenegro to Macedonia: 9.0\", \"type\": \"scattergeo\"}, {\"hoverinfo\": \"text\", \"lat\": [42.708678000000006, 44.016521000000004], \"line\": {\"color\": \"red\", \"width\": 3.3000000000000007}, \"lon\": [19.37439, 21.005859], \"mode\": \"lines\", \"text\": \"Montenegro to Serbia: 10.8\", \"type\": \"scattergeo\"}, {\"hoverinfo\": \"text\", \"lat\": [31.791702, 51.165690999999995], \"line\": {\"color\": \"red\", \"width\": 2.5}, \"lon\": [-7.09262, 10.451526], \"mode\": \"lines\", \"text\": \"Morocco to Germany: 10.0\", \"type\": \"scattergeo\"}, {\"hoverinfo\": \"text\", \"lat\": [31.791702, 38.963745], \"line\": {\"color\": \"red\", \"width\": 4.5}, \"lon\": [-7.09262, 35.243322], \"mode\": \"lines\", \"text\": \"Morocco to Turkey: 12.0\", \"type\": \"scattergeo\"}, {\"hoverinfo\": \"text\", \"lat\": [31.791702, 55.378051], \"line\": {\"color\": \"red\", \"width\": 0.5}, \"lon\": [-7.09262, -3.435973], \"mode\": \"lines\", \"text\": \"Morocco to United Kingdom: 8.0\", \"type\": \"scattergeo\"}, {\"hoverinfo\": \"text\", \"lat\": [51.919438, 48.379433], \"line\": {\"color\": \"red\", \"width\": 1.0}, \"lon\": [19.145135999999997, 31.16558], \"mode\": \"lines\", \"text\": \"Poland to Ukraine: 8.5\", \"type\": \"scattergeo\"}, {\"hoverinfo\": \"text\", \"lat\": [39.399871999999995, 41.87194], \"line\": {\"color\": \"red\", \"width\": 0.40000000000000036}, \"lon\": [-8.224454, 12.56738], \"mode\": \"lines\", \"text\": \"Portugal to Italy: 7.9\", \"type\": \"scattergeo\"}, {\"hoverinfo\": \"text\", \"lat\": [45.943160999999996, 47.411631], \"line\": {\"color\": \"red\", \"width\": 4.300000000000001}, \"lon\": [24.96676, 28.369884999999996], \"mode\": \"lines\", \"text\": \"Romania to Moldova: 11.8\", \"type\": \"scattergeo\"}, {\"hoverinfo\": \"text\", \"lat\": [61.52401, 40.069099], \"line\": {\"color\": \"red\", \"width\": 1.3000000000000007}, \"lon\": [105.31875600000001, 45.038189], \"mode\": \"lines\", \"text\": \"Russia to Armenia: 8.8\", \"type\": \"scattergeo\"}, {\"hoverinfo\": \"text\", \"lat\": [61.52401, 40.143105], \"line\": {\"color\": \"red\", \"width\": 1.5999999999999996}, \"lon\": [105.31875600000001, 47.576927000000005], \"mode\": \"lines\", \"text\": \"Russia to Azerbaijan: 9.1\", \"type\": \"scattergeo\"}, {\"hoverinfo\": \"text\", \"lat\": [44.016521000000004, 43.915886], \"line\": {\"color\": \"red\", \"width\": 2.6999999999999993}, \"lon\": [21.005859, 17.679076000000002], \"mode\": \"lines\", \"text\": \"Serbia to Bosnia and Herzegovina: 10.2\", \"type\": \"scattergeo\"}, {\"hoverinfo\": \"text\", \"lat\": [44.016521000000004, 41.608635], \"line\": {\"color\": \"red\", \"width\": 3.5}, \"lon\": [21.005859, 21.745275], \"mode\": \"lines\", \"text\": \"Serbia to Macedonia: 11.0\", \"type\": \"scattergeo\"}, {\"hoverinfo\": \"text\", \"lat\": [44.016521000000004, 42.708678000000006], \"line\": {\"color\": \"red\", \"width\": 4.5}, \"lon\": [21.005859, 19.37439], \"mode\": \"lines\", \"text\": \"Serbia to Montenegro: 12.0\", \"type\": \"scattergeo\"}, {\"hoverinfo\": \"text\", \"lat\": [46.151241, 42.733883], \"line\": {\"color\": \"red\", \"width\": 1.0}, \"lon\": [14.995463, 25.48583], \"mode\": \"lines\", \"text\": \"Slovenia to Bulgaria: 8.5\", \"type\": \"scattergeo\"}, {\"hoverinfo\": \"text\", \"lat\": [46.151241, 42.708678000000006], \"line\": {\"color\": \"red\", \"width\": 1.0}, \"lon\": [14.995463, 19.37439], \"mode\": \"lines\", \"text\": \"Slovenia to Montenegro: 8.5\", \"type\": \"scattergeo\"}, {\"hoverinfo\": \"text\", \"lat\": [46.151241, 44.016521000000004], \"line\": {\"color\": \"red\", \"width\": 1.8000000000000007}, \"lon\": [14.995463, 21.005859], \"mode\": \"lines\", \"text\": \"Slovenia to Serbia: 9.3\", \"type\": \"scattergeo\"}, {\"hoverinfo\": \"text\", \"lat\": [46.818188, 44.016521000000004], \"line\": {\"color\": \"red\", \"width\": 0.40000000000000036}, \"lon\": [8.227511999999999, 21.005859], \"mode\": \"lines\", \"text\": \"Switzerland to Serbia: 7.9\", \"type\": \"scattergeo\"}, {\"hoverinfo\": \"text\", \"lat\": [38.963745, 40.069099], \"line\": {\"color\": \"red\", \"width\": 1.3000000000000007}, \"lon\": [35.243322, 45.038189], \"mode\": \"lines\", \"text\": \"Turkey to Armenia: 8.8\", \"type\": \"scattergeo\"}, {\"hoverinfo\": \"text\", \"lat\": [38.963745, 40.143105], \"line\": {\"color\": \"red\", \"width\": 4.5}, \"lon\": [35.243322, 47.576927000000005], \"mode\": \"lines\", \"text\": \"Turkey to Azerbaijan: 12.0\", \"type\": \"scattergeo\"}, {\"hoverinfo\": \"text\", \"lat\": [38.963745, 43.915886], \"line\": {\"color\": \"red\", \"width\": 0.09999999999999964}, \"lon\": [35.243322, 17.679076000000002], \"mode\": \"lines\", \"text\": \"Turkey to Bosnia and Herzegovina: 7.6\", \"type\": \"scattergeo\"}, {\"hoverinfo\": \"text\", \"lat\": [48.379433, 40.143105], \"line\": {\"color\": \"red\", \"width\": 1.5}, \"lon\": [31.16558, 47.576927000000005], \"mode\": \"lines\", \"text\": \"Ukraine to Azerbaijan: 9.0\", \"type\": \"scattergeo\"}, {\"hoverinfo\": \"text\", \"lat\": [48.379433, 53.709807], \"line\": {\"color\": \"red\", \"width\": 0.0}, \"lon\": [31.16558, 27.953389], \"mode\": \"lines\", \"text\": \"Ukraine to Belarus: 7.5\", \"type\": \"scattergeo\"}, {\"hoverinfo\": \"text\", \"lat\": [48.379433, 42.315407], \"line\": {\"color\": \"red\", \"width\": 0.0}, \"lon\": [31.16558, 43.356891999999995], \"mode\": \"lines\", \"text\": \"Ukraine to Georgia: 7.5\", \"type\": \"scattergeo\"}, {\"hoverinfo\": \"text\", \"lat\": [48.379433, 61.52401], \"line\": {\"color\": \"red\", \"width\": 0.5}, \"lon\": [31.16558, 105.31875600000001], \"mode\": \"lines\", \"text\": \"Ukraine to Russia: 8.0\", \"type\": \"scattergeo\"}],\n",
       "                        {\"geo\": {\"projection\": {\"type\": \"equirectangular\"}, \"showcoastlines\": false, \"showframe\": false}, \"showlegend\": false, \"template\": {\"data\": {\"bar\": [{\"error_x\": {\"color\": \"#2a3f5f\"}, \"error_y\": {\"color\": \"#2a3f5f\"}, \"marker\": {\"line\": {\"color\": \"#E5ECF6\", \"width\": 0.5}}, \"type\": \"bar\"}], \"barpolar\": [{\"marker\": {\"line\": {\"color\": \"#E5ECF6\", \"width\": 0.5}}, \"type\": \"barpolar\"}], \"carpet\": [{\"aaxis\": {\"endlinecolor\": \"#2a3f5f\", \"gridcolor\": \"white\", \"linecolor\": \"white\", \"minorgridcolor\": \"white\", \"startlinecolor\": \"#2a3f5f\"}, \"baxis\": {\"endlinecolor\": \"#2a3f5f\", \"gridcolor\": \"white\", \"linecolor\": \"white\", \"minorgridcolor\": \"white\", \"startlinecolor\": \"#2a3f5f\"}, \"type\": \"carpet\"}], \"choropleth\": [{\"colorbar\": {\"outlinewidth\": 0, \"ticks\": \"\"}, \"type\": \"choropleth\"}], \"contour\": [{\"colorbar\": {\"outlinewidth\": 0, \"ticks\": \"\"}, \"colorscale\": [[0.0, \"#0d0887\"], [0.1111111111111111, \"#46039f\"], [0.2222222222222222, \"#7201a8\"], [0.3333333333333333, \"#9c179e\"], [0.4444444444444444, \"#bd3786\"], [0.5555555555555556, \"#d8576b\"], [0.6666666666666666, \"#ed7953\"], [0.7777777777777778, \"#fb9f3a\"], [0.8888888888888888, \"#fdca26\"], [1.0, \"#f0f921\"]], \"type\": \"contour\"}], \"contourcarpet\": [{\"colorbar\": {\"outlinewidth\": 0, \"ticks\": \"\"}, \"type\": \"contourcarpet\"}], \"heatmap\": [{\"colorbar\": {\"outlinewidth\": 0, \"ticks\": \"\"}, \"colorscale\": [[0.0, \"#0d0887\"], [0.1111111111111111, \"#46039f\"], [0.2222222222222222, \"#7201a8\"], [0.3333333333333333, \"#9c179e\"], [0.4444444444444444, \"#bd3786\"], [0.5555555555555556, \"#d8576b\"], [0.6666666666666666, \"#ed7953\"], [0.7777777777777778, \"#fb9f3a\"], [0.8888888888888888, \"#fdca26\"], [1.0, \"#f0f921\"]], \"type\": \"heatmap\"}], \"heatmapgl\": [{\"colorbar\": {\"outlinewidth\": 0, \"ticks\": \"\"}, \"colorscale\": [[0.0, \"#0d0887\"], [0.1111111111111111, \"#46039f\"], [0.2222222222222222, \"#7201a8\"], [0.3333333333333333, \"#9c179e\"], [0.4444444444444444, \"#bd3786\"], [0.5555555555555556, \"#d8576b\"], [0.6666666666666666, \"#ed7953\"], [0.7777777777777778, \"#fb9f3a\"], [0.8888888888888888, \"#fdca26\"], [1.0, \"#f0f921\"]], \"type\": \"heatmapgl\"}], \"histogram\": [{\"marker\": {\"colorbar\": {\"outlinewidth\": 0, \"ticks\": \"\"}}, \"type\": \"histogram\"}], \"histogram2d\": [{\"colorbar\": {\"outlinewidth\": 0, \"ticks\": \"\"}, \"colorscale\": [[0.0, \"#0d0887\"], [0.1111111111111111, \"#46039f\"], [0.2222222222222222, \"#7201a8\"], [0.3333333333333333, \"#9c179e\"], [0.4444444444444444, \"#bd3786\"], [0.5555555555555556, \"#d8576b\"], [0.6666666666666666, \"#ed7953\"], [0.7777777777777778, \"#fb9f3a\"], [0.8888888888888888, \"#fdca26\"], [1.0, \"#f0f921\"]], \"type\": \"histogram2d\"}], \"histogram2dcontour\": [{\"colorbar\": {\"outlinewidth\": 0, \"ticks\": \"\"}, \"colorscale\": [[0.0, \"#0d0887\"], [0.1111111111111111, \"#46039f\"], [0.2222222222222222, \"#7201a8\"], [0.3333333333333333, \"#9c179e\"], [0.4444444444444444, \"#bd3786\"], [0.5555555555555556, \"#d8576b\"], [0.6666666666666666, \"#ed7953\"], [0.7777777777777778, \"#fb9f3a\"], [0.8888888888888888, \"#fdca26\"], [1.0, \"#f0f921\"]], \"type\": \"histogram2dcontour\"}], \"mesh3d\": [{\"colorbar\": {\"outlinewidth\": 0, \"ticks\": \"\"}, \"type\": \"mesh3d\"}], \"parcoords\": [{\"line\": {\"colorbar\": {\"outlinewidth\": 0, \"ticks\": \"\"}}, \"type\": \"parcoords\"}], \"pie\": [{\"automargin\": true, \"type\": \"pie\"}], \"scatter\": [{\"marker\": {\"colorbar\": {\"outlinewidth\": 0, \"ticks\": \"\"}}, \"type\": \"scatter\"}], \"scatter3d\": [{\"line\": {\"colorbar\": {\"outlinewidth\": 0, \"ticks\": \"\"}}, \"marker\": {\"colorbar\": {\"outlinewidth\": 0, \"ticks\": \"\"}}, \"type\": \"scatter3d\"}], \"scattercarpet\": [{\"marker\": {\"colorbar\": {\"outlinewidth\": 0, \"ticks\": \"\"}}, \"type\": \"scattercarpet\"}], \"scattergeo\": [{\"marker\": {\"colorbar\": {\"outlinewidth\": 0, \"ticks\": \"\"}}, \"type\": \"scattergeo\"}], \"scattergl\": [{\"marker\": {\"colorbar\": {\"outlinewidth\": 0, \"ticks\": \"\"}}, \"type\": \"scattergl\"}], \"scattermapbox\": [{\"marker\": {\"colorbar\": {\"outlinewidth\": 0, \"ticks\": \"\"}}, \"type\": \"scattermapbox\"}], \"scatterpolar\": [{\"marker\": {\"colorbar\": {\"outlinewidth\": 0, \"ticks\": \"\"}}, \"type\": \"scatterpolar\"}], \"scatterpolargl\": [{\"marker\": {\"colorbar\": {\"outlinewidth\": 0, \"ticks\": \"\"}}, \"type\": \"scatterpolargl\"}], \"scatterternary\": [{\"marker\": {\"colorbar\": {\"outlinewidth\": 0, \"ticks\": \"\"}}, \"type\": \"scatterternary\"}], \"surface\": [{\"colorbar\": {\"outlinewidth\": 0, \"ticks\": \"\"}, \"colorscale\": [[0.0, \"#0d0887\"], [0.1111111111111111, \"#46039f\"], [0.2222222222222222, \"#7201a8\"], [0.3333333333333333, \"#9c179e\"], [0.4444444444444444, \"#bd3786\"], [0.5555555555555556, \"#d8576b\"], [0.6666666666666666, \"#ed7953\"], [0.7777777777777778, \"#fb9f3a\"], [0.8888888888888888, \"#fdca26\"], [1.0, \"#f0f921\"]], \"type\": \"surface\"}], \"table\": [{\"cells\": {\"fill\": {\"color\": \"#EBF0F8\"}, \"line\": {\"color\": \"white\"}}, \"header\": {\"fill\": {\"color\": \"#C8D4E3\"}, \"line\": {\"color\": \"white\"}}, \"type\": \"table\"}]}, \"layout\": {\"annotationdefaults\": {\"arrowcolor\": \"#2a3f5f\", \"arrowhead\": 0, \"arrowwidth\": 1}, \"coloraxis\": {\"colorbar\": {\"outlinewidth\": 0, \"ticks\": \"\"}}, \"colorscale\": {\"diverging\": [[0, \"#8e0152\"], [0.1, \"#c51b7d\"], [0.2, \"#de77ae\"], [0.3, \"#f1b6da\"], [0.4, \"#fde0ef\"], [0.5, \"#f7f7f7\"], [0.6, \"#e6f5d0\"], [0.7, \"#b8e186\"], [0.8, \"#7fbc41\"], [0.9, \"#4d9221\"], [1, \"#276419\"]], \"sequential\": [[0.0, \"#0d0887\"], [0.1111111111111111, \"#46039f\"], [0.2222222222222222, \"#7201a8\"], [0.3333333333333333, \"#9c179e\"], [0.4444444444444444, \"#bd3786\"], [0.5555555555555556, \"#d8576b\"], [0.6666666666666666, \"#ed7953\"], [0.7777777777777778, \"#fb9f3a\"], [0.8888888888888888, \"#fdca26\"], [1.0, \"#f0f921\"]], \"sequentialminus\": [[0.0, \"#0d0887\"], [0.1111111111111111, \"#46039f\"], [0.2222222222222222, \"#7201a8\"], [0.3333333333333333, \"#9c179e\"], [0.4444444444444444, \"#bd3786\"], [0.5555555555555556, \"#d8576b\"], [0.6666666666666666, \"#ed7953\"], [0.7777777777777778, \"#fb9f3a\"], [0.8888888888888888, \"#fdca26\"], [1.0, \"#f0f921\"]]}, \"colorway\": [\"#636efa\", \"#EF553B\", \"#00cc96\", \"#ab63fa\", \"#FFA15A\", \"#19d3f3\", \"#FF6692\", \"#B6E880\", \"#FF97FF\", \"#FECB52\"], \"font\": {\"color\": \"#2a3f5f\"}, \"geo\": {\"bgcolor\": \"white\", \"lakecolor\": \"white\", \"landcolor\": \"#E5ECF6\", \"showlakes\": true, \"showland\": true, \"subunitcolor\": \"white\"}, \"hoverlabel\": {\"align\": \"left\"}, \"hovermode\": \"closest\", \"mapbox\": {\"style\": \"light\"}, \"paper_bgcolor\": \"white\", \"plot_bgcolor\": \"#E5ECF6\", \"polar\": {\"angularaxis\": {\"gridcolor\": \"white\", \"linecolor\": \"white\", \"ticks\": \"\"}, \"bgcolor\": \"#E5ECF6\", \"radialaxis\": {\"gridcolor\": \"white\", \"linecolor\": \"white\", \"ticks\": \"\"}}, \"scene\": {\"xaxis\": {\"backgroundcolor\": \"#E5ECF6\", \"gridcolor\": \"white\", \"gridwidth\": 2, \"linecolor\": \"white\", \"showbackground\": true, \"ticks\": \"\", \"zerolinecolor\": \"white\"}, \"yaxis\": {\"backgroundcolor\": \"#E5ECF6\", \"gridcolor\": \"white\", \"gridwidth\": 2, \"linecolor\": \"white\", \"showbackground\": true, \"ticks\": \"\", \"zerolinecolor\": \"white\"}, \"zaxis\": {\"backgroundcolor\": \"#E5ECF6\", \"gridcolor\": \"white\", \"gridwidth\": 2, \"linecolor\": \"white\", \"showbackground\": true, \"ticks\": \"\", \"zerolinecolor\": \"white\"}}, \"shapedefaults\": {\"line\": {\"color\": \"#2a3f5f\"}}, \"ternary\": {\"aaxis\": {\"gridcolor\": \"white\", \"linecolor\": \"white\", \"ticks\": \"\"}, \"baxis\": {\"gridcolor\": \"white\", \"linecolor\": \"white\", \"ticks\": \"\"}, \"bgcolor\": \"#E5ECF6\", \"caxis\": {\"gridcolor\": \"white\", \"linecolor\": \"white\", \"ticks\": \"\"}}, \"title\": {\"x\": 0.05}, \"xaxis\": {\"automargin\": true, \"gridcolor\": \"white\", \"linecolor\": \"white\", \"ticks\": \"\", \"title\": {\"standoff\": 15}, \"zerolinecolor\": \"white\", \"zerolinewidth\": 2}, \"yaxis\": {\"automargin\": true, \"gridcolor\": \"white\", \"linecolor\": \"white\", \"ticks\": \"\", \"title\": {\"standoff\": 15}, \"zerolinecolor\": \"white\", \"zerolinewidth\": 2}}}, \"title\": {\"text\": \"Votes between countries\"}},\n",
       "                        {\"responsive\": true}\n",
       "                    ).then(function(){\n",
       "                            \n",
       "var gd = document.getElementById('d37ae839-5f99-4507-9513-cf464a33be22');\n",
       "var x = new MutationObserver(function (mutations, observer) {{\n",
       "        var display = window.getComputedStyle(gd).display;\n",
       "        if (!display || display === 'none') {{\n",
       "            console.log([gd, 'removed!']);\n",
       "            Plotly.purge(gd);\n",
       "            observer.disconnect();\n",
       "        }}\n",
       "}});\n",
       "\n",
       "// Listen for the removal of the full notebook cells\n",
       "var notebookContainer = gd.closest('#notebook-container');\n",
       "if (notebookContainer) {{\n",
       "    x.observe(notebookContainer, {childList: true});\n",
       "}}\n",
       "\n",
       "// Listen for the clearing of the current output cell\n",
       "var outputEl = gd.closest('.output');\n",
       "if (outputEl) {{\n",
       "    x.observe(outputEl, {childList: true});\n",
       "}}\n",
       "\n",
       "                        })\n",
       "                };\n",
       "                });\n",
       "            </script>\n",
       "        </div>"
      ]
     },
     "metadata": {},
     "output_type": "display_data"
    }
   ],
   "source": [
    "for i in range(len(avg_votes_by_countries_pairs)):\n",
    "    from_country = avg_votes_by_countries_pairs['From country'][i]\n",
    "    to_country = avg_votes_by_countries_pairs['To country'][i]\n",
    "    points = avg_votes_by_countries_pairs['Points'][i]\n",
    "    \n",
    "    fig.add_trace(\n",
    "        go.Scattergeo(\n",
    "            lat = [country_to_coord_dict[from_country][0], country_to_coord_dict[to_country][0]],\n",
    "            lon = [country_to_coord_dict[from_country][1], country_to_coord_dict[to_country][1]],\n",
    "            hoverinfo = 'text',\n",
    "            text = from_country + ' to ' + to_country + ': ' + str(points),\n",
    "            mode = 'lines',\n",
    "            line = dict(width = points - threshold,\n",
    "                        color = 'red'),\n",
    "            #opacity = (points - threshold) / (12 - threshold),\n",
    "        )\n",
    "    )\n",
    "\n",
    "fig.update_layout(\n",
    "    title_text='Votes between countries',\n",
    "    showlegend = False,\n",
    ")\n",
    "\n",
    "fig.show()"
   ]
  },
  {
   "cell_type": "code",
   "execution_count": null,
   "metadata": {},
   "outputs": [],
   "source": []
  },
  {
   "cell_type": "code",
   "execution_count": null,
   "metadata": {},
   "outputs": [],
   "source": []
  }
 ],
 "metadata": {
  "kernelspec": {
   "display_name": "Python 3",
   "language": "python",
   "name": "python3"
  },
  "language_info": {
   "codemirror_mode": {
    "name": "ipython",
    "version": 3
   },
   "file_extension": ".py",
   "mimetype": "text/x-python",
   "name": "python",
   "nbconvert_exporter": "python",
   "pygments_lexer": "ipython3",
   "version": "3.7.3"
  }
 },
 "nbformat": 4,
 "nbformat_minor": 2
}
